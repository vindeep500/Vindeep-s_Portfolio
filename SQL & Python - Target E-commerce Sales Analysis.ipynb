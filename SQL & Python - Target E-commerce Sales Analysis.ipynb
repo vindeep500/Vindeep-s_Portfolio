{
 "cells": [
  {
   "cell_type": "markdown",
   "metadata": {},
   "source": [
    "# Ecommerce Business Analysis using SQL and Python\n",
    "\n",
    "In today's digital age, e-commerce has revolutionized the way businesses operate and consumers shop. To gain valuable insights into customer behavior, sales trends, and operational efficiency, businesses are increasingly turning to data analysis. This project aims to leverage SQL and Python to analyze a comprehensive e-commerce dataset, uncovering key trends, identifying areas for improvement, and supporting data-driven decision-making.\n",
    "\n",
    "By utilizing SQL for data extraction and manipulation and Python for advanced analytics and visualization, this project will delve into various aspects of the e-commerce business"
   ]
  },
  {
   "cell_type": "code",
   "execution_count": 1,
   "metadata": {},
   "outputs": [],
   "source": [
    "import pandas as pd\n",
    "import mysql.connector\n",
    "import os"
   ]
  },
  {
   "cell_type": "code",
   "execution_count": null,
   "metadata": {},
   "outputs": [],
   "source": [
    "# List of CSV files and their corresponding table names\n",
    "csv_files = [\n",
    "    ('customers.csv', 'customers'),\n",
    "    ('geolocation.csv', 'geolocation'),\n",
    "    ('order_items.csv', 'order_items'),\n",
    "    ('orders.csv', 'orders'),\n",
    "    ('payments.csv', 'payments'),\n",
    "    ('products.csv', 'products'),\n",
    "    ('sellers.csv', 'sellers') \n",
    "]\n",
    "\n",
    "# Connect to the MySQL database\n",
    "conn = mysql.connector.connect(\n",
    "    host='localhost',\n",
    "    user='root',\n",
    "    password='root',\n",
    "    database='ecommerce'\n",
    ")\n",
    "cursor = conn.cursor()\n",
    "\n",
    "# Folder containing the CSV files\n",
    "folder_path = 'E:/Python Data Analysis Projects/Ecommerce Analysis(Python+SQL)'\n",
    "\n",
    "def get_sql_type(dtype):\n",
    "    if pd.api.types.is_integer_dtype(dtype):\n",
    "        return 'INT'\n",
    "    elif pd.api.types.is_float_dtype(dtype):\n",
    "        return 'FLOAT'\n",
    "    elif pd.api.types.is_bool_dtype(dtype):\n",
    "        return 'BOOLEAN'\n",
    "    elif pd.api.types.is_datetime64_any_dtype(dtype):\n",
    "        return 'DATETIME'\n",
    "    else:\n",
    "        return 'TEXT'\n",
    "\n",
    "for csv_file, table_name in csv_files:\n",
    "    file_path = os.path.join(folder_path, csv_file)\n",
    "    \n",
    "    # Read the CSV file into a pandas DataFrame\n",
    "    df = pd.read_csv(file_path)\n",
    "    \n",
    "    # Replace NaN with None to handle SQL NULL\n",
    "    df = df.where(pd.notnull(df), None)\n",
    "    \n",
    "    # Debugging: Check for NaN values\n",
    "    print(f\"Processing {csv_file}\")\n",
    "    print(f\"NaN values before replacement:\\n{df.isnull().sum()}\\n\")\n",
    "\n",
    "    # Clean column names\n",
    "    df.columns = [col.replace(' ', '_').replace('-', '_').replace('.', '_') for col in df.columns]\n",
    "\n",
    "    # Generate the CREATE TABLE statement with appropriate data types\n",
    "    columns = ', '.join([f'`{col}` {get_sql_type(df[col].dtype)}' for col in df.columns])\n",
    "    create_table_query = f'CREATE TABLE IF NOT EXISTS `{table_name}` ({columns})'\n",
    "    cursor.execute(create_table_query)\n",
    "\n",
    "    # Insert DataFrame data into the MySQL table\n",
    "    for _, row in df.iterrows():\n",
    "        # Convert row to tuple and handle NaN/None explicitly\n",
    "        values = tuple(None if pd.isna(x) else x for x in row)\n",
    "        sql = f\"INSERT INTO `{table_name}` ({', '.join(['`' + col + '`' for col in df.columns])}) VALUES ({', '.join(['%s'] * len(row))})\"\n",
    "        cursor.execute(sql, values)\n",
    "\n",
    "    # Commit the transaction for the current CSV file\n",
    "    conn.commit()\n",
    "\n",
    "# Close the connection\n",
    "conn.close()"
   ]
  },
  {
   "cell_type": "code",
   "execution_count": 2,
   "metadata": {},
   "outputs": [],
   "source": [
    "# Connecting to MYSQL database\n",
    "db = mysql.connector.connect(host='localhost',\n",
    "                             username = 'root',\n",
    "                             password='root',\n",
    "                             database='ecommerce')\n",
    "cur = db.cursor()"
   ]
  },
  {
   "cell_type": "code",
   "execution_count": 3,
   "metadata": {},
   "outputs": [
    {
     "data": {
      "text/plain": [
       "[('franca',),\n",
       " ('sao bernardo do campo',),\n",
       " ('sao paulo',),\n",
       " ('mogi das cruzes',),\n",
       " ('campinas',),\n",
       " ('jaragua do sul',),\n",
       " ('timoteo',),\n",
       " ('curitiba',),\n",
       " ('belo horizonte',),\n",
       " ('montes claros',),\n",
       " ('rio de janeiro',),\n",
       " ('lencois paulista',),\n",
       " ('caxias do sul',),\n",
       " ('piracicaba',),\n",
       " ('guarulhos',),\n",
       " ('pacaja',),\n",
       " ('florianopolis',),\n",
       " ('aparecida de goiania',),\n",
       " ('santo andre',),\n",
       " ('goiania',),\n",
       " ('cachoeiro de itapemirim',),\n",
       " ('sao jose dos campos',),\n",
       " ('sao roque',),\n",
       " ('camacari',),\n",
       " ('resende',),\n",
       " ('sumare',),\n",
       " ('novo hamburgo',),\n",
       " ('sao luis',),\n",
       " ('sao jose',),\n",
       " ('santa barbara',),\n",
       " ('ribeirao preto',),\n",
       " ('ituiutaba',),\n",
       " ('taquarituba',),\n",
       " ('sao jose dos pinhais',),\n",
       " ('barrinha',),\n",
       " ('parati',),\n",
       " ('dourados',),\n",
       " ('trindade',),\n",
       " ('cascavel',),\n",
       " ('fortaleza',),\n",
       " ('brasilia',),\n",
       " ('pelotas',),\n",
       " ('porto alegre',),\n",
       " ('salto',),\n",
       " ('jundiai',),\n",
       " ('cacapava',),\n",
       " ('sao vicente',),\n",
       " ('uberlandia',),\n",
       " ('botelhos',),\n",
       " ('sao goncalo',),\n",
       " ('araucaria',),\n",
       " ('nova iguacu',),\n",
       " ('areia branca',),\n",
       " ('campos dos goytacazes',),\n",
       " ('sao carlos',),\n",
       " ('itajuba',),\n",
       " ('cruz das almas',),\n",
       " ('vassouras',),\n",
       " ('feira de santana',),\n",
       " ('niteroi',),\n",
       " ('sobral',),\n",
       " ('divinopolis',),\n",
       " ('paraiba do sul',),\n",
       " ('paulista',),\n",
       " ('carapicuiba',),\n",
       " ('bom principio',),\n",
       " ('astolfo dutra',),\n",
       " ('marialva',),\n",
       " ('sao jose do rio preto',),\n",
       " ('cabo frio',),\n",
       " ('contagem',),\n",
       " ('cafeara',),\n",
       " ('sao joaquim da barra',),\n",
       " ('foz do iguacu',),\n",
       " ('suzano',),\n",
       " ('timbo',),\n",
       " ('camboriu',),\n",
       " ('nova bassano',),\n",
       " ('rio grande',),\n",
       " ('braganca paulista',),\n",
       " ('barra do garcas',),\n",
       " ('embu',),\n",
       " ('urussanga',),\n",
       " ('silvianopolis',),\n",
       " ('gameleiras',),\n",
       " ('belem',),\n",
       " ('pocos de caldas',),\n",
       " ('santos',),\n",
       " ('piracaia',),\n",
       " ('sinop',),\n",
       " ('guaruja',),\n",
       " ('barueri',),\n",
       " ('feliz',),\n",
       " ('jambeiro',),\n",
       " ('ipatinga',),\n",
       " ('tupa',),\n",
       " ('blumenau',),\n",
       " ('moncoes',),\n",
       " ('balneario camboriu',),\n",
       " ('vargem grande',),\n",
       " ('rio brilhante',),\n",
       " ('eugenopolis',),\n",
       " ('paulinia',),\n",
       " ('apucarana',),\n",
       " ('recife',),\n",
       " ('osasco',),\n",
       " ('valinhos',),\n",
       " ('manaus',),\n",
       " ('cidreira',),\n",
       " ('santiago',),\n",
       " ('sao sepe',),\n",
       " ('alta floresta',),\n",
       " ('jaboatao dos guararapes',),\n",
       " ('ibatiba',),\n",
       " ('hortolandia',),\n",
       " ('cotia',),\n",
       " ('macae',),\n",
       " ('saudades',),\n",
       " ('macapa',),\n",
       " ('salto de pirapora',),\n",
       " ('taboao da serra',),\n",
       " ('bom jesus',),\n",
       " ('santa cruz do rio pardo',),\n",
       " ('diadema',),\n",
       " ('santa ines',),\n",
       " ('serrinha',),\n",
       " ('votorantim',),\n",
       " ('itatiaia',),\n",
       " ('duque de caxias',),\n",
       " ('varre-sai',),\n",
       " ('vila velha',),\n",
       " ('mangaratiba',),\n",
       " ('atibaia',),\n",
       " ('salvador',),\n",
       " ('maceio',),\n",
       " ('birigui',),\n",
       " ('petropolis',),\n",
       " ('sao pedro',),\n",
       " ('jaguariaiva',),\n",
       " ('franco da rocha',),\n",
       " ('pindamonhangaba',),\n",
       " ('irati',),\n",
       " ('ribeira',),\n",
       " ('barbacena',),\n",
       " ('limoeiro',),\n",
       " ('espigao do oeste',),\n",
       " ('belford roxo',),\n",
       " ('coronel fabriciano',),\n",
       " ('itanhaem',),\n",
       " ('bebedouro',),\n",
       " ('americana',),\n",
       " ('uba',),\n",
       " ('arapongas',),\n",
       " ('vinhedo',),\n",
       " ('itajai',),\n",
       " ('bauru',),\n",
       " ('pradopolis',),\n",
       " ('aripuana',),\n",
       " ('guaratinga',),\n",
       " ('ponta pora',),\n",
       " ('aracatuba',),\n",
       " ('volta redonda',),\n",
       " ('maringa',),\n",
       " ('araraquara',),\n",
       " ('matipo',),\n",
       " ('santo antonio da patrulha',),\n",
       " ('barra mansa',),\n",
       " ('diamantina',),\n",
       " ('mairinque',),\n",
       " ('capitao leonidas marques',),\n",
       " ('sao sebastiao do paraiso',),\n",
       " ('rosario do sul',),\n",
       " ('itaguai',),\n",
       " ('paraopeba',),\n",
       " ('guarapuava',),\n",
       " ('crisolita',),\n",
       " ('pirai',),\n",
       " ('linhares',),\n",
       " ('agudos',),\n",
       " ('sao joao de meriti',),\n",
       " ('navegantes',),\n",
       " ('pirassununga',),\n",
       " ('faxinal dos guedes',),\n",
       " ('criciuma',),\n",
       " ('nova venecia',),\n",
       " ('passo fundo',),\n",
       " ('ibia',),\n",
       " ('manhuacu',),\n",
       " ('altamira',),\n",
       " ('aperibe',),\n",
       " ('cuiaba',),\n",
       " ('canoas',),\n",
       " ('cubatao',),\n",
       " ('campo limpo paulista',),\n",
       " ('cambe',),\n",
       " ('itaquaquecetuba',),\n",
       " ('sao caetano do sul',),\n",
       " ('sao goncalo do rio abaixo',),\n",
       " ('rolandia',),\n",
       " ('tres coracoes',),\n",
       " ('cacapava do sul',),\n",
       " ('sao joao nepomuceno',),\n",
       " ('leme',),\n",
       " ('araras',),\n",
       " ('cortes',),\n",
       " ('brusque',),\n",
       " ('montenegro',),\n",
       " ('itaberai',),\n",
       " ('santa rosa de viterbo',),\n",
       " ('agua fria de goias',),\n",
       " ('marau',),\n",
       " ('curvelo',),\n",
       " ('juiz de fora',),\n",
       " ('mogi-guacu',),\n",
       " ('guaratingueta',),\n",
       " ('paranagua',),\n",
       " ('lins',),\n",
       " ('campo bom',),\n",
       " ('sertaozinho',),\n",
       " ('tres lagoas',),\n",
       " ('jau',),\n",
       " ('campos de julio',),\n",
       " ('saquarema',),\n",
       " ('artur nogueira',),\n",
       " ('uaua',),\n",
       " ('jandira',),\n",
       " ('concordia',),\n",
       " ('nova friburgo',),\n",
       " ('sorocaba',),\n",
       " ('ponte nova',),\n",
       " ('araquari',),\n",
       " ('muriae',),\n",
       " ('nova lima',),\n",
       " ('inhumas',),\n",
       " ('italva',),\n",
       " ('tres rios',),\n",
       " ('santa maria',),\n",
       " ('itagiba',),\n",
       " ('paracatu',),\n",
       " ('xaxim',),\n",
       " ('laranjeiras do sul',),\n",
       " ('itapiuna',),\n",
       " ('formosa',),\n",
       " ('ivoti',),\n",
       " ('juazeiro',),\n",
       " ('ponta grossa',),\n",
       " ('campina grande',),\n",
       " ('maua',),\n",
       " ('salgueiro',),\n",
       " ('lorena',),\n",
       " ('toledo',),\n",
       " ('sao pedro da aldeia',),\n",
       " ('vianopolis',),\n",
       " ('arapiraca',),\n",
       " ('porto seguro',),\n",
       " ('ariquemes',),\n",
       " ('presidente getulio',),\n",
       " ('rio negro',),\n",
       " ('ribeirao pires',),\n",
       " ('sao jose da coroa grande',),\n",
       " ('agua doce do norte',),\n",
       " ('anapolis',),\n",
       " ('guararapes',),\n",
       " ('farroupilha',),\n",
       " ('almenara',),\n",
       " ('rio das ostras',),\n",
       " ('gravatai',),\n",
       " ('brumado',),\n",
       " ('marilia',),\n",
       " ('itabira',),\n",
       " ('claudia',),\n",
       " ('para de minas',),\n",
       " ('miguelopolis',),\n",
       " ('terra roxa',),\n",
       " ('araguari',),\n",
       " ('lages',),\n",
       " ('embu das artes',),\n",
       " ('limeira',),\n",
       " ('taubate',),\n",
       " ('santa fe do sul',),\n",
       " ('caieiras',),\n",
       " ('carangola',),\n",
       " ('chapada do norte',),\n",
       " ('loanda',),\n",
       " ('passa tres',),\n",
       " ('aracoiaba da serra',),\n",
       " ('itaborai',),\n",
       " ('vitoria',),\n",
       " ('sao bento do sul',),\n",
       " ('indaiatuba',),\n",
       " ('boituva',),\n",
       " ('teresopolis',),\n",
       " ('pinhalzinho',),\n",
       " ('petrolina',),\n",
       " ('natal',),\n",
       " ('barreiras',),\n",
       " ('januaria',),\n",
       " ('ipiabas',),\n",
       " ('firminopolis',),\n",
       " ('joinville',),\n",
       " ('mococa',),\n",
       " ('valenca',),\n",
       " ('sao miguel do oeste',),\n",
       " ('jales',),\n",
       " ('rio formoso',),\n",
       " ('angra dos reis',),\n",
       " ('alfredo chaves',),\n",
       " ('itapetinga',),\n",
       " ('gurupi',),\n",
       " ('nucleo residencial pilar',),\n",
       " ('coromandel',),\n",
       " ('charqueada',),\n",
       " ('itau de minas',),\n",
       " ('ibiruba',),\n",
       " ('bertioga',),\n",
       " ('ipiau',),\n",
       " ('matozinhos',),\n",
       " ('teresina',),\n",
       " ('entre rios',),\n",
       " ('juina',),\n",
       " ('mairipora',),\n",
       " ('marechal candido rondon',),\n",
       " ('avare',),\n",
       " ('icem',),\n",
       " ('sao sebastiao',),\n",
       " ('serra',),\n",
       " ('mirassol',),\n",
       " ('taperuaba',),\n",
       " ('alfenas',),\n",
       " ('leopoldina',),\n",
       " ('sao joao da boa vista',),\n",
       " ('parnamirim',),\n",
       " ('teixeira de freitas',),\n",
       " ('joao pessoa',),\n",
       " ('chacara',),\n",
       " ('rio novo do sul',),\n",
       " ('guapore',),\n",
       " ('rio branco',),\n",
       " ('ferraz de vasconcelos',),\n",
       " ('petrolandia',),\n",
       " ('araruna',),\n",
       " ('gravata',),\n",
       " ('alegre',),\n",
       " ('londrina',),\n",
       " ('senhor do bonfim',),\n",
       " ('santana de parnaiba',),\n",
       " ('piratininga',),\n",
       " ('monte carmelo',),\n",
       " ('ipiranga',),\n",
       " ('jacarei',),\n",
       " ('picos',),\n",
       " ('una',),\n",
       " ('taguai',),\n",
       " ('peabiru',),\n",
       " ('conquista',),\n",
       " ('bicas',),\n",
       " ('forquilha',),\n",
       " ('guaicara',),\n",
       " ('santa vitoria',),\n",
       " ('adamantina',),\n",
       " ('rio claro',),\n",
       " ('sao jose de uba',),\n",
       " ('sorriso',),\n",
       " ('aracaju',),\n",
       " ('conselheiro lafaiete',),\n",
       " ('taguatinga',),\n",
       " ('tiangua',),\n",
       " ('paranaiba',),\n",
       " ('david canabarro',),\n",
       " ('itarare',),\n",
       " ('cajueiro',),\n",
       " ('cruzeiro',),\n",
       " ('santa cruz do sul',),\n",
       " ('presidente epitacio',),\n",
       " ('castanhal',),\n",
       " ('cariacica',),\n",
       " ('bom jesus dos perdoes',),\n",
       " ('urucurituba',),\n",
       " ('olinda',),\n",
       " ('sao jose do rio pardo',),\n",
       " ('guapimirim',),\n",
       " ('vargem grande paulista',),\n",
       " ('chapeco',),\n",
       " ('videira',),\n",
       " ('canapi',),\n",
       " ('pontal do parana',),\n",
       " ('bento goncalves',),\n",
       " ('caceres',),\n",
       " ('bituruna',),\n",
       " ('sao bento do sapucai',),\n",
       " ('mage',),\n",
       " ('forquilhinha',),\n",
       " ('itaberaba',),\n",
       " ('gramado',),\n",
       " ('guacui',),\n",
       " ('pato branco',),\n",
       " ('itanhem',),\n",
       " ('palmas',),\n",
       " ('bage',),\n",
       " ('francisco morato',),\n",
       " ('cosmopolis',),\n",
       " ('carmo',),\n",
       " ('armacao dos buzios',),\n",
       " ('santa maria da vitoria',),\n",
       " ('pedro leopoldo',),\n",
       " ('tres marias',),\n",
       " ('santo antonio de padua',),\n",
       " ('porto feliz',),\n",
       " ('gaspar',),\n",
       " ('palhoca',),\n",
       " ('pouso alegre',),\n",
       " ('guaiuba',),\n",
       " ('fraiburgo',),\n",
       " ('aurea',),\n",
       " ('botucatu',),\n",
       " ('corumba',),\n",
       " ('cajamar',),\n",
       " ('queimados',),\n",
       " ('sao jorge do ivai',),\n",
       " ('nova laranjeiras',),\n",
       " ('guaxupe',),\n",
       " ('osvaldo cruz',),\n",
       " ('ivora',),\n",
       " ('anaurilandia',),\n",
       " ('caraguatatuba',),\n",
       " ('regeneracao',),\n",
       " ('bilac',),\n",
       " ('faxinal',),\n",
       " ('pedro velho',),\n",
       " ('uberaba',),\n",
       " ('viamao',),\n",
       " ('cachoeira de minas',),\n",
       " ('coelho neto',),\n",
       " ('itajobi',),\n",
       " ('carmo do rio claro',),\n",
       " ('marica',),\n",
       " ('campo novo do parecis',),\n",
       " ('boa vista',),\n",
       " ('ipameri',),\n",
       " ('carlos barbosa',),\n",
       " ('anicuns',),\n",
       " ('rio bananal',),\n",
       " ('lavras da mangabeira',),\n",
       " ('balsamo',),\n",
       " ('guariba',),\n",
       " ('sao vendelino',),\n",
       " ('campo mourao',),\n",
       " ('aracati',),\n",
       " ('santo antonio do descoberto',),\n",
       " ('santo amaro da imperatriz',),\n",
       " ('betim',),\n",
       " ('vicosa',),\n",
       " ('dom eliseu',),\n",
       " ('campo largo',),\n",
       " ('santa rosa de lima',),\n",
       " ('quissama',),\n",
       " ('mirandopolis',),\n",
       " ('itapevi',),\n",
       " ('francisco beltrao',),\n",
       " (\"dias d'avila\",),\n",
       " ('novo horizonte',),\n",
       " ('poa',),\n",
       " ('querencia',),\n",
       " ('campo grande',),\n",
       " ('pedreira',),\n",
       " ('pariquera-acu',),\n",
       " ('itabaianinha',),\n",
       " ('pitangui',),\n",
       " ('araruama',),\n",
       " ('campo formoso',),\n",
       " ('guanambi',),\n",
       " ('itapolis',),\n",
       " ('pederneiras',),\n",
       " ('itabirito',),\n",
       " ('itaipava',),\n",
       " ('arroio do sal',),\n",
       " ('glaura',),\n",
       " ('lagoa vermelha',),\n",
       " ('mantena',),\n",
       " ('peruibe',),\n",
       " ('tubarao',),\n",
       " ('bonfim',),\n",
       " ('alvorada',),\n",
       " ('patrocinio',),\n",
       " ('mineiros',),\n",
       " ('itabuna',),\n",
       " ('tijucas',),\n",
       " ('santo antonio de jesus',),\n",
       " ('canarana',),\n",
       " ('itapecerica da serra',),\n",
       " ('nova prata do iguacu',),\n",
       " ('treze tilias',),\n",
       " ('anchieta',),\n",
       " ('quatigua',),\n",
       " ('iturama',),\n",
       " ('tres de maio',),\n",
       " ('santa rita do passa quatro',),\n",
       " ('porto esperidiao',),\n",
       " ('bonfim paulista',),\n",
       " ('cajuru',),\n",
       " ('cacador',),\n",
       " ('paragominas',),\n",
       " ('boa esperanca do sul',),\n",
       " ('tres pontas',),\n",
       " ('juazeiro do norte',),\n",
       " ('bambui',),\n",
       " ('comendador levy gasparian',),\n",
       " ('sao miguel do aleixo',),\n",
       " ('palmeira dos indios',),\n",
       " ('cerquilho',),\n",
       " ('saudade do iguacu',),\n",
       " ('ipaussu',),\n",
       " ('alto paraiso de goias',),\n",
       " ('santa isabel',),\n",
       " ('quirinopolis',),\n",
       " ('caruaru',),\n",
       " ('casimiro de abreu',),\n",
       " ('chavantes',),\n",
       " ('ecoporanga',),\n",
       " ('cachoeira paulista',),\n",
       " ('rio verde',),\n",
       " ('maracanau',),\n",
       " ('canoinhas',),\n",
       " ('ituverava',),\n",
       " ('buriti dos lopes',),\n",
       " ('rio do antonio',),\n",
       " ('guaranta',),\n",
       " ('santa luzia',),\n",
       " ('tucurui',),\n",
       " ('paranavai',),\n",
       " ('pinhais',),\n",
       " ('governador valadares',),\n",
       " ('trajano de moraes',),\n",
       " ('caete',),\n",
       " ('abaetetuba',),\n",
       " ('lavras',),\n",
       " ('coronel joao sa',),\n",
       " ('divino',),\n",
       " ('macaubas',),\n",
       " ('lucelia',),\n",
       " ('brejo da madre de deus',),\n",
       " ('carai',),\n",
       " ('corbelia',),\n",
       " ('varginha',),\n",
       " ('ouro preto',),\n",
       " ('prado',),\n",
       " ('colniza',),\n",
       " ('piuma',),\n",
       " ('rancharia',),\n",
       " ('barretos',),\n",
       " ('eunapolis',),\n",
       " ('floresta',),\n",
       " ('sao jose do norte',),\n",
       " ('rio bonito',),\n",
       " ('vargem bonita',),\n",
       " ('monte mor',),\n",
       " ('valente',),\n",
       " ('balsas',),\n",
       " ('nhandeara',),\n",
       " ('lauro de freitas',),\n",
       " ('osorio',),\n",
       " ('machado',),\n",
       " ('sao leopoldo',),\n",
       " ('soledade',),\n",
       " ('assis',),\n",
       " ('guarapari',),\n",
       " ('santo antonio do caiua',),\n",
       " ('esteio',),\n",
       " ('cambuci',),\n",
       " ('campina grande do sul',),\n",
       " ('baixo guandu',),\n",
       " ('fernao',),\n",
       " ('ibitinga',),\n",
       " ('santa cruz das palmeiras',),\n",
       " ('vila muriqui',),\n",
       " ('sao mateus',),\n",
       " ('piracuruca',),\n",
       " ('cordeiro',),\n",
       " ('cachoeira do sul',),\n",
       " ('barra do pirai',),\n",
       " ('castro',),\n",
       " ('ico',),\n",
       " ('sete lagoas',),\n",
       " ('itumbiara',),\n",
       " ('aluminio',),\n",
       " ('jatai',),\n",
       " ('frederico westphalen',),\n",
       " ('goioere',),\n",
       " ('sao jose da tapera',),\n",
       " ('porto uniao',),\n",
       " ('cocalinho',),\n",
       " ('curitibanos',),\n",
       " ('campos novos',),\n",
       " ('ubatuba',),\n",
       " ('monte santo de minas',),\n",
       " ('ribeirao das neves',),\n",
       " ('sao simao',),\n",
       " ('urutai',),\n",
       " ('itaobim',),\n",
       " ('liberdade',),\n",
       " ('arcos',),\n",
       " ('ribeirao',),\n",
       " ('patos de minas',),\n",
       " ('penapolis',),\n",
       " ('eusebio',),\n",
       " ('cordeiros',),\n",
       " ('victor graeff',),\n",
       " ('santa rita do araguaia',),\n",
       " ('poxoreu',),\n",
       " ('ananas',),\n",
       " ('conceicao dos ouros',),\n",
       " ('alagoinhas',),\n",
       " ('sao joao da barra',),\n",
       " ('lindoia',),\n",
       " ('bonfinopolis',),\n",
       " ('ibiam',),\n",
       " ('morungaba',),\n",
       " ('andradina',),\n",
       " ('tatui',),\n",
       " ('mata verde',),\n",
       " ('cornelio procopio',),\n",
       " ('itapipoca',),\n",
       " ('queluz',),\n",
       " ('godoy moreira',),\n",
       " ('iracemapolis',),\n",
       " ('buritizeiro',),\n",
       " ('xique-xique',),\n",
       " ('uruacu',),\n",
       " ('japi',),\n",
       " ('itauna',),\n",
       " ('sao francisco de assis',),\n",
       " ('pitangueiras',),\n",
       " ('ze doca',),\n",
       " ('dracena',),\n",
       " ('cachoeiras de macacu',),\n",
       " ('barauna',),\n",
       " ('formiga',),\n",
       " ('rodeio',),\n",
       " ('jequie',),\n",
       " ('juvenilia',),\n",
       " ('poco fundo',),\n",
       " ('amparo',),\n",
       " ('lauro muller',),\n",
       " ('japeri',),\n",
       " ('ourinhos',),\n",
       " ('lagoa dos gatos',),\n",
       " ('embu-guacu',),\n",
       " ('nossa senhora do remedio',),\n",
       " ('tambau',),\n",
       " ('orlandia',),\n",
       " ('bananeiras',),\n",
       " ('sao joao do manhuacu',),\n",
       " ('sarandi',),\n",
       " ('congonhas',),\n",
       " ('boa esperanca',),\n",
       " ('sandolandia',),\n",
       " ('garca',),\n",
       " ('descalvado',),\n",
       " ('guaracai',),\n",
       " ('aruana',),\n",
       " ('inga',),\n",
       " ('taio',),\n",
       " ('gaurama',),\n",
       " ('praia grande',),\n",
       " ('janauba',),\n",
       " ('nova monte verde',),\n",
       " ('mongagua',),\n",
       " ('monte alto',),\n",
       " ('sao joao do piaui',),\n",
       " ('primavera do leste',),\n",
       " ('seropedica',),\n",
       " ('indaial',),\n",
       " ('teofilo otoni',),\n",
       " ('santa terezinha',),\n",
       " ('planaltina',),\n",
       " ('caravelas',),\n",
       " ('muritiba',),\n",
       " ('itatiba',),\n",
       " ('piumhii',),\n",
       " ('pitanga',),\n",
       " ('capelinha',),\n",
       " ('ipero',),\n",
       " ('tarabai',),\n",
       " ('aparecida do taboado',),\n",
       " ('maioba',),\n",
       " ('monnerat',),\n",
       " ('sao lourenco do sul',),\n",
       " ('biguacu',),\n",
       " ('venda nova do imigrante',),\n",
       " ('arapoti',),\n",
       " ('fazenda rio grande',),\n",
       " ('senges',),\n",
       " ('aracruz',),\n",
       " ('canela',),\n",
       " ('porto franco',),\n",
       " ('veranopolis',),\n",
       " ('candiota',),\n",
       " ('carmo do paranaiba',),\n",
       " ('itacare',),\n",
       " ('desembargador otoni',),\n",
       " ('joanopolis',),\n",
       " ('registro',),\n",
       " ('ipiranga do norte',),\n",
       " ('felipe guerra',),\n",
       " ('dumont',),\n",
       " ('itapetininga',),\n",
       " ('bom despacho',),\n",
       " ('lagoa santa',),\n",
       " ('estacao',),\n",
       " ('panorama',),\n",
       " ('palmares',),\n",
       " ('prata',),\n",
       " ('santa adelia',),\n",
       " ('iguaba grande',),\n",
       " ('sarzedo',),\n",
       " ('dourado',),\n",
       " ('alcinopolis',),\n",
       " ('limoeiro do norte',),\n",
       " ('ibiraci',),\n",
       " ('ilhabela',),\n",
       " ('icara',),\n",
       " ('paiva',),\n",
       " ('batatais',),\n",
       " ('formoso do araguaia',),\n",
       " ('itapaci',),\n",
       " ('fernandopolis',),\n",
       " ('miguel pereira',),\n",
       " ('tocos',),\n",
       " ('campos do jordao',),\n",
       " ('catalao',),\n",
       " ('sao jose da lapa',),\n",
       " ('marituba',),\n",
       " ('arapora',),\n",
       " ('turvo',),\n",
       " ('rubiataba',),\n",
       " ('guaruja do sul',),\n",
       " ('pedra bela',),\n",
       " ('perdizes',),\n",
       " ('jesuania',),\n",
       " ('antonio carlos',),\n",
       " ('itapecerica',),\n",
       " ('monte belo',),\n",
       " ('mossoro',),\n",
       " ('piraju',),\n",
       " ('encruzilhada do sul',),\n",
       " ('igaratinga',),\n",
       " ('sao luis de montes belos',),\n",
       " ('santa rosa',),\n",
       " ('lagoinha',),\n",
       " ('redentora',),\n",
       " ('cuite',),\n",
       " ('coxim',),\n",
       " ('lucas do rio verde',),\n",
       " ('ibirataia',),\n",
       " ('olimpia',),\n",
       " ('cedro',),\n",
       " ('mario campos',),\n",
       " ('umuarama',),\n",
       " ('nova xavantina',),\n",
       " ('sao borja',),\n",
       " ('aguai',),\n",
       " ('itapira',),\n",
       " ('uniao da vitoria',),\n",
       " ('nova odessa',),\n",
       " ('itapuranga',),\n",
       " ('nova cruz',),\n",
       " ('apuiares',),\n",
       " ('almirante tamandare',),\n",
       " ('correia pinto',),\n",
       " ('itamarandiba',),\n",
       " ('juscimeira',),\n",
       " ('ipora',),\n",
       " ('cedro de sao joao',),\n",
       " (\"santa barbara d'oeste\",),\n",
       " ('sao joao da urtiga',),\n",
       " ('valparaiso de goias',),\n",
       " ('jussara',),\n",
       " ('capao da canoa',),\n",
       " ('araxa',),\n",
       " ('campo belo',),\n",
       " ('monte aprazivel',),\n",
       " ('bom jesus do querendo',),\n",
       " ('socorro',),\n",
       " ('catanduva',),\n",
       " ('monte castelo',),\n",
       " ('tabatinga',),\n",
       " ('bayeux',),\n",
       " ('ijui',),\n",
       " ('tangara da serra',),\n",
       " ('campos borges',),\n",
       " ('palma',),\n",
       " ('minacu',),\n",
       " ('miracema',),\n",
       " ('taruma',),\n",
       " ('sao francisco do sul',),\n",
       " ('cedral',),\n",
       " ('camaragibe',),\n",
       " ('lajeado',),\n",
       " ('cerqueira cesar',),\n",
       " ('frutal',),\n",
       " ('igarata',),\n",
       " ('novo gama',),\n",
       " ('sapucaia do sul',),\n",
       " ('juquitiba',),\n",
       " ('terra boa',),\n",
       " ('joao monlevade',),\n",
       " ('porangatu',),\n",
       " ('formosa da serra negra',),\n",
       " ('rafard',),\n",
       " ('rainha do mar',),\n",
       " ('pontal',),\n",
       " ('rio do sul',),\n",
       " ('nilopolis',),\n",
       " ('maracaju',),\n",
       " ('santo augusto',),\n",
       " ('banabuiu',),\n",
       " ('buenopolis',),\n",
       " ('barbalha',),\n",
       " ('quintana',),\n",
       " ('chorrocho',),\n",
       " ('votuporanga',),\n",
       " ('poco verde',),\n",
       " ('cipo-guacu',),\n",
       " ('santarem',),\n",
       " ('santa clara do sul',),\n",
       " ('ibiuna',),\n",
       " ('capivari',),\n",
       " ('arraias',),\n",
       " ('patos',),\n",
       " ('sao francisco do guapore',),\n",
       " ('vitoria da conquista',),\n",
       " ('urucuca',),\n",
       " ('vacaria',),\n",
       " ('campos altos',),\n",
       " ('nossa senhora do socorro',),\n",
       " ('cruzeiro do sul',),\n",
       " ('cataguases',),\n",
       " ('varzea grande',),\n",
       " ('santa rita do sapucai',),\n",
       " ('jaboticabal',),\n",
       " ('ilha comprida',),\n",
       " ('brasilia de minas',),\n",
       " ('moreno',),\n",
       " ('capanema',),\n",
       " ('tombos',),\n",
       " ('espumoso',),\n",
       " ('ouro branco',),\n",
       " ('valenca do piaui',),\n",
       " ('igrejinha',),\n",
       " ('engenheiro coelho',),\n",
       " ('parauapebas',),\n",
       " ('afonso claudio',),\n",
       " ('sao bernardo',),\n",
       " ('salto do jacui',),\n",
       " ('pires do rio',),\n",
       " ('astorga',),\n",
       " ('medina',),\n",
       " ('porto ferreira',),\n",
       " ('aracariguama',),\n",
       " ('hidrolandia',),\n",
       " ('virginopolis',),\n",
       " ('soledade de minas',),\n",
       " ('casca',),\n",
       " ('sapiranga',),\n",
       " ('angatuba',),\n",
       " ('ibirapua',),\n",
       " ('itupeva',),\n",
       " ('espera feliz',),\n",
       " ('penedo',),\n",
       " ('ibirite',),\n",
       " ('miracatu',),\n",
       " ('francisco santos',),\n",
       " ('paracambi',),\n",
       " ('cardoso',),\n",
       " ('floriano',),\n",
       " ('rondonopolis',),\n",
       " ('barra de sao francisco',),\n",
       " ('lavinia',),\n",
       " ('guajara-mirim',),\n",
       " ('guimaraes',),\n",
       " ('sao tome',),\n",
       " ('medianeira',),\n",
       " ('conceicao das pedras',),\n",
       " ('rinopolis',),\n",
       " ('capim grosso',),\n",
       " ('guaira',),\n",
       " ('euclides da cunha paulista',),\n",
       " ('lagoa da prata',),\n",
       " ('nanuque',),\n",
       " ('luis antonio',),\n",
       " ('senador firmino',),\n",
       " ('viradouro',),\n",
       " ('itabera',),\n",
       " ('cambara',),\n",
       " ('sananduva',),\n",
       " ('tapera',),\n",
       " ('tupaciguara',),\n",
       " ('colombo',),\n",
       " ('ananindeua',),\n",
       " ('coribe',),\n",
       " ('rio doce',),\n",
       " ('mogi mirim',),\n",
       " ('tocos do moji',),\n",
       " ('beberibe',),\n",
       " ('formosa do rio preto',),\n",
       " ('claudio',),\n",
       " ('rio paranaiba',),\n",
       " ('humberto de campos',),\n",
       " ('camocim de sao felix',),\n",
       " ('santo antonio de posse',),\n",
       " ('mesquita',),\n",
       " ('passa quatro',),\n",
       " ('belo oriente',),\n",
       " ('alto araguaia',),\n",
       " ('igarassu',),\n",
       " ('porto velho',),\n",
       " ('cajazeiras',),\n",
       " ('garopaba',),\n",
       " ('rio azul',),\n",
       " ('dois corregos',),\n",
       " ('sooretama',),\n",
       " ('cruzeiro do oeste',),\n",
       " ('nazare paulista',),\n",
       " ('riversul',),\n",
       " ('iguaracu',),\n",
       " ('maracas',),\n",
       " ('parana',),\n",
       " ('reboucas',),\n",
       " ('ametista do sul',),\n",
       " ('itu',),\n",
       " ('cacu',),\n",
       " ('vespasiano',),\n",
       " ('lindolfo collor',),\n",
       " ('sao lourenco',),\n",
       " ('santana do sobrado',),\n",
       " ('cafelandia',),\n",
       " ('ibiapina',),\n",
       " ('schroeder',),\n",
       " ('sao joao do oriente',),\n",
       " ('matao',),\n",
       " ('itanhandu',),\n",
       " ('santo angelo',),\n",
       " ('capinopolis',),\n",
       " ('colatina',),\n",
       " ('nova mutum',),\n",
       " ('munhoz de melo',),\n",
       " ('ibate',),\n",
       " ('unai',),\n",
       " ('medeiros neto',),\n",
       " ('anta',),\n",
       " ('ouroeste',),\n",
       " ('central',),\n",
       " ('nova independencia',),\n",
       " ('itapema',),\n",
       " ('sao jose do cedro',),\n",
       " ('camutanga',),\n",
       " ('ipumirim',),\n",
       " ('cristalia',),\n",
       " ('andira',),\n",
       " ('panelas',),\n",
       " ('comodoro',),\n",
       " ('domingos martins',),\n",
       " ('tangua',),\n",
       " ('sao gotardo',),\n",
       " ('araguaina',),\n",
       " ('ilheus',),\n",
       " ('louveira',),\n",
       " ('imbituba',),\n",
       " ('ouricuri',),\n",
       " ('itatinga',),\n",
       " ('santo cristo',),\n",
       " (\"arraial d'ajuda\",),\n",
       " ('piracanjuba',),\n",
       " ('russas',),\n",
       " ('lambari',),\n",
       " ('vargem alta',),\n",
       " ('sacra familia do tingua',),\n",
       " ('assis chateaubriand',),\n",
       " ('lago da pedra',),\n",
       " ('unistalda',),\n",
       " ('sao joao evangelista',),\n",
       " ('paramirim',),\n",
       " ('goias',),\n",
       " ('paracuru',),\n",
       " ('cruz alta',),\n",
       " ('presidente bernardes',),\n",
       " ('pains',),\n",
       " ('sao goncalo do rio preto',),\n",
       " ('jacinto machado',),\n",
       " ('sobralia',),\n",
       " ('maraba',),\n",
       " ('paraibuna',),\n",
       " ('toropi',),\n",
       " ('jauru',),\n",
       " ('cristalandia',),\n",
       " ('castelo do piaui',),\n",
       " ('ibipora',),\n",
       " ('presidente dutra',),\n",
       " ('vera cruz',),\n",
       " ('paulo frontin',),\n",
       " ...]"
      ]
     },
     "execution_count": 3,
     "metadata": {},
     "output_type": "execute_result"
    }
   ],
   "source": [
    "# List all the unique cities where customers are located\n",
    "query = \"\"\"SELECT DISTINCT customer_city FROM customers\"\"\"\n",
    "cur.execute(query) # to execute our query\n",
    "data = cur.fetchall() # to fetch the data into python\n",
    "data"
   ]
  },
  {
   "cell_type": "code",
   "execution_count": 6,
   "metadata": {},
   "outputs": [
    {
     "name": "stdout",
     "output_type": "stream",
     "text": [
      "total orders placed in 2017 are 90202\n"
     ]
    }
   ],
   "source": [
    "# Count the numbers of orders placed in 2017\n",
    "query = \"\"\"SELECT COUNT(order_id) FROM orders \n",
    "            WHERE YEAR(order_purchase_timestamp)=2017\"\"\"\n",
    "cur.execute(query)\n",
    "data = cur.fetchall()\n",
    "print(f\"total orders placed in 2017 are {data[0][0]}\")"
   ]
  },
  {
   "cell_type": "code",
   "execution_count": 7,
   "metadata": {},
   "outputs": [],
   "source": [
    "pd.options.display.float_format = '{:.0f}'.format"
   ]
  },
  {
   "cell_type": "code",
   "execution_count": 8,
   "metadata": {},
   "outputs": [
    {
     "data": {
      "text/html": [
       "<div>\n",
       "<style scoped>\n",
       "    .dataframe tbody tr th:only-of-type {\n",
       "        vertical-align: middle;\n",
       "    }\n",
       "\n",
       "    .dataframe tbody tr th {\n",
       "        vertical-align: top;\n",
       "    }\n",
       "\n",
       "    .dataframe thead th {\n",
       "        text-align: right;\n",
       "    }\n",
       "</style>\n",
       "<table border=\"1\" class=\"dataframe\">\n",
       "  <thead>\n",
       "    <tr style=\"text-align: right;\">\n",
       "      <th></th>\n",
       "      <th>category</th>\n",
       "      <th>sales</th>\n",
       "    </tr>\n",
       "  </thead>\n",
       "  <tbody>\n",
       "    <tr>\n",
       "      <th>0</th>\n",
       "      <td>perfumery</td>\n",
       "      <td>4053909</td>\n",
       "    </tr>\n",
       "    <tr>\n",
       "      <th>1</th>\n",
       "      <td>Furniture Decoration</td>\n",
       "      <td>11441411</td>\n",
       "    </tr>\n",
       "    <tr>\n",
       "      <th>2</th>\n",
       "      <td>telephony</td>\n",
       "      <td>3895056</td>\n",
       "    </tr>\n",
       "    <tr>\n",
       "      <th>3</th>\n",
       "      <td>Fashion Bags and Accessories</td>\n",
       "      <td>1745266</td>\n",
       "    </tr>\n",
       "    <tr>\n",
       "      <th>4</th>\n",
       "      <td>bed table bath</td>\n",
       "      <td>13700429</td>\n",
       "    </tr>\n",
       "    <tr>\n",
       "      <th>...</th>\n",
       "      <td>...</td>\n",
       "      <td>...</td>\n",
       "    </tr>\n",
       "    <tr>\n",
       "      <th>69</th>\n",
       "      <td>cds music dvds</td>\n",
       "      <td>9595</td>\n",
       "    </tr>\n",
       "    <tr>\n",
       "      <th>70</th>\n",
       "      <td>La Cuisine</td>\n",
       "      <td>23308</td>\n",
       "    </tr>\n",
       "    <tr>\n",
       "      <th>71</th>\n",
       "      <td>Fashion Children's Clothing</td>\n",
       "      <td>6285</td>\n",
       "    </tr>\n",
       "    <tr>\n",
       "      <th>72</th>\n",
       "      <td>PC Gamer</td>\n",
       "      <td>17395</td>\n",
       "    </tr>\n",
       "    <tr>\n",
       "      <th>73</th>\n",
       "      <td>insurance and services</td>\n",
       "      <td>2596</td>\n",
       "    </tr>\n",
       "  </tbody>\n",
       "</table>\n",
       "<p>74 rows × 2 columns</p>\n",
       "</div>"
      ],
      "text/plain": [
       "                        category    sales\n",
       "0                      perfumery  4053909\n",
       "1           Furniture Decoration 11441411\n",
       "2                      telephony  3895056\n",
       "3   Fashion Bags and Accessories  1745266\n",
       "4                 bed table bath 13700429\n",
       "..                           ...      ...\n",
       "69                cds music dvds     9595\n",
       "70                    La Cuisine    23308\n",
       "71   Fashion Children's Clothing     6285\n",
       "72                      PC Gamer    17395\n",
       "73        insurance and services     2596\n",
       "\n",
       "[74 rows x 2 columns]"
      ]
     },
     "execution_count": 8,
     "metadata": {},
     "output_type": "execute_result"
    }
   ],
   "source": [
    "# Find the total sales per category\n",
    "query = \"\"\"SELECT products.product_category, SUM(payments.payment_value)\n",
    "FROM products JOIN order_items ON products.product_id=order_items.product_id\n",
    "JOIN payments ON order_items.order_id = payments.order_id\n",
    "GROUP BY products.product_category\"\"\"\n",
    "cur.execute(query)\n",
    "data = cur.fetchall()\n",
    "data = pd.DataFrame(data, columns=['category','sales']) # convert to dataframe\n",
    "data"
   ]
  },
  {
   "cell_type": "code",
   "execution_count": 9,
   "metadata": {},
   "outputs": [
    {
     "data": {
      "text/plain": [
       "[(Decimal('99.9981'),)]"
      ]
     },
     "execution_count": 9,
     "metadata": {},
     "output_type": "execute_result"
    }
   ],
   "source": [
    "# Percentage of orders that were paid in installments\n",
    "query = \"\"\"SELECT ( SUM(CASE WHEN payment_installments >=1 THEN 1\n",
    "ELSE 0 END)/COUNT(order_id) )*100 FROM payments \"\"\"\n",
    "cur.execute(query)\n",
    "data = cur.fetchall()\n",
    "data"
   ]
  },
  {
   "cell_type": "markdown",
   "metadata": {},
   "source": [
    "observation: 99.99% i.e, almost all the orders are paid in instalments"
   ]
  },
  {
   "cell_type": "code",
   "execution_count": 17,
   "metadata": {},
   "outputs": [
    {
     "data": {
      "application/vnd.plotly.v1+json": {
       "config": {
        "plotlyServerURL": "https://plot.ly"
       },
       "data": [
        {
         "alignmentgroup": "True",
         "hovertemplate": "customer state=%{x}<br>no. of customers=%{y}<extra></extra>",
         "legendgroup": "",
         "marker": {
          "color": "#636efa",
          "pattern": {
           "shape": ""
          }
         },
         "name": "",
         "offsetgroup": "",
         "orientation": "v",
         "showlegend": false,
         "textposition": "auto",
         "type": "bar",
         "x": [
          "SP",
          "RJ",
          "MG",
          "RS",
          "PR",
          "SC",
          "BA",
          "DF",
          "ES",
          "GO",
          "PE",
          "CE",
          "PA",
          "MT",
          "MA",
          "MS",
          "PB",
          "PI",
          "RN",
          "AL",
          "SE",
          "TO",
          "RO",
          "AM",
          "AC",
          "AP",
          "RR"
         ],
         "xaxis": "x",
         "y": [
          83492,
          25704,
          23270,
          10932,
          10090,
          7274,
          6760,
          4280,
          4066,
          4040,
          3304,
          2672,
          1950,
          1814,
          1494,
          1430,
          1072,
          990,
          970,
          826,
          700,
          560,
          506,
          296,
          162,
          136,
          92
         ],
         "yaxis": "y"
        }
       ],
       "layout": {
        "barmode": "relative",
        "legend": {
         "tracegroupgap": 0
        },
        "paper_bgcolor": "black",
        "plot_bgcolor": "black",
        "template": {
         "data": {
          "bar": [
           {
            "error_x": {
             "color": "#2a3f5f"
            },
            "error_y": {
             "color": "#2a3f5f"
            },
            "marker": {
             "line": {
              "color": "#E5ECF6",
              "width": 0.5
             },
             "pattern": {
              "fillmode": "overlay",
              "size": 10,
              "solidity": 0.2
             }
            },
            "type": "bar"
           }
          ],
          "barpolar": [
           {
            "marker": {
             "line": {
              "color": "#E5ECF6",
              "width": 0.5
             },
             "pattern": {
              "fillmode": "overlay",
              "size": 10,
              "solidity": 0.2
             }
            },
            "type": "barpolar"
           }
          ],
          "carpet": [
           {
            "aaxis": {
             "endlinecolor": "#2a3f5f",
             "gridcolor": "white",
             "linecolor": "white",
             "minorgridcolor": "white",
             "startlinecolor": "#2a3f5f"
            },
            "baxis": {
             "endlinecolor": "#2a3f5f",
             "gridcolor": "white",
             "linecolor": "white",
             "minorgridcolor": "white",
             "startlinecolor": "#2a3f5f"
            },
            "type": "carpet"
           }
          ],
          "choropleth": [
           {
            "colorbar": {
             "outlinewidth": 0,
             "ticks": ""
            },
            "type": "choropleth"
           }
          ],
          "contour": [
           {
            "colorbar": {
             "outlinewidth": 0,
             "ticks": ""
            },
            "colorscale": [
             [
              0,
              "#0d0887"
             ],
             [
              0.1111111111111111,
              "#46039f"
             ],
             [
              0.2222222222222222,
              "#7201a8"
             ],
             [
              0.3333333333333333,
              "#9c179e"
             ],
             [
              0.4444444444444444,
              "#bd3786"
             ],
             [
              0.5555555555555556,
              "#d8576b"
             ],
             [
              0.6666666666666666,
              "#ed7953"
             ],
             [
              0.7777777777777778,
              "#fb9f3a"
             ],
             [
              0.8888888888888888,
              "#fdca26"
             ],
             [
              1,
              "#f0f921"
             ]
            ],
            "type": "contour"
           }
          ],
          "contourcarpet": [
           {
            "colorbar": {
             "outlinewidth": 0,
             "ticks": ""
            },
            "type": "contourcarpet"
           }
          ],
          "heatmap": [
           {
            "colorbar": {
             "outlinewidth": 0,
             "ticks": ""
            },
            "colorscale": [
             [
              0,
              "#0d0887"
             ],
             [
              0.1111111111111111,
              "#46039f"
             ],
             [
              0.2222222222222222,
              "#7201a8"
             ],
             [
              0.3333333333333333,
              "#9c179e"
             ],
             [
              0.4444444444444444,
              "#bd3786"
             ],
             [
              0.5555555555555556,
              "#d8576b"
             ],
             [
              0.6666666666666666,
              "#ed7953"
             ],
             [
              0.7777777777777778,
              "#fb9f3a"
             ],
             [
              0.8888888888888888,
              "#fdca26"
             ],
             [
              1,
              "#f0f921"
             ]
            ],
            "type": "heatmap"
           }
          ],
          "heatmapgl": [
           {
            "colorbar": {
             "outlinewidth": 0,
             "ticks": ""
            },
            "colorscale": [
             [
              0,
              "#0d0887"
             ],
             [
              0.1111111111111111,
              "#46039f"
             ],
             [
              0.2222222222222222,
              "#7201a8"
             ],
             [
              0.3333333333333333,
              "#9c179e"
             ],
             [
              0.4444444444444444,
              "#bd3786"
             ],
             [
              0.5555555555555556,
              "#d8576b"
             ],
             [
              0.6666666666666666,
              "#ed7953"
             ],
             [
              0.7777777777777778,
              "#fb9f3a"
             ],
             [
              0.8888888888888888,
              "#fdca26"
             ],
             [
              1,
              "#f0f921"
             ]
            ],
            "type": "heatmapgl"
           }
          ],
          "histogram": [
           {
            "marker": {
             "pattern": {
              "fillmode": "overlay",
              "size": 10,
              "solidity": 0.2
             }
            },
            "type": "histogram"
           }
          ],
          "histogram2d": [
           {
            "colorbar": {
             "outlinewidth": 0,
             "ticks": ""
            },
            "colorscale": [
             [
              0,
              "#0d0887"
             ],
             [
              0.1111111111111111,
              "#46039f"
             ],
             [
              0.2222222222222222,
              "#7201a8"
             ],
             [
              0.3333333333333333,
              "#9c179e"
             ],
             [
              0.4444444444444444,
              "#bd3786"
             ],
             [
              0.5555555555555556,
              "#d8576b"
             ],
             [
              0.6666666666666666,
              "#ed7953"
             ],
             [
              0.7777777777777778,
              "#fb9f3a"
             ],
             [
              0.8888888888888888,
              "#fdca26"
             ],
             [
              1,
              "#f0f921"
             ]
            ],
            "type": "histogram2d"
           }
          ],
          "histogram2dcontour": [
           {
            "colorbar": {
             "outlinewidth": 0,
             "ticks": ""
            },
            "colorscale": [
             [
              0,
              "#0d0887"
             ],
             [
              0.1111111111111111,
              "#46039f"
             ],
             [
              0.2222222222222222,
              "#7201a8"
             ],
             [
              0.3333333333333333,
              "#9c179e"
             ],
             [
              0.4444444444444444,
              "#bd3786"
             ],
             [
              0.5555555555555556,
              "#d8576b"
             ],
             [
              0.6666666666666666,
              "#ed7953"
             ],
             [
              0.7777777777777778,
              "#fb9f3a"
             ],
             [
              0.8888888888888888,
              "#fdca26"
             ],
             [
              1,
              "#f0f921"
             ]
            ],
            "type": "histogram2dcontour"
           }
          ],
          "mesh3d": [
           {
            "colorbar": {
             "outlinewidth": 0,
             "ticks": ""
            },
            "type": "mesh3d"
           }
          ],
          "parcoords": [
           {
            "line": {
             "colorbar": {
              "outlinewidth": 0,
              "ticks": ""
             }
            },
            "type": "parcoords"
           }
          ],
          "pie": [
           {
            "automargin": true,
            "type": "pie"
           }
          ],
          "scatter": [
           {
            "fillpattern": {
             "fillmode": "overlay",
             "size": 10,
             "solidity": 0.2
            },
            "type": "scatter"
           }
          ],
          "scatter3d": [
           {
            "line": {
             "colorbar": {
              "outlinewidth": 0,
              "ticks": ""
             }
            },
            "marker": {
             "colorbar": {
              "outlinewidth": 0,
              "ticks": ""
             }
            },
            "type": "scatter3d"
           }
          ],
          "scattercarpet": [
           {
            "marker": {
             "colorbar": {
              "outlinewidth": 0,
              "ticks": ""
             }
            },
            "type": "scattercarpet"
           }
          ],
          "scattergeo": [
           {
            "marker": {
             "colorbar": {
              "outlinewidth": 0,
              "ticks": ""
             }
            },
            "type": "scattergeo"
           }
          ],
          "scattergl": [
           {
            "marker": {
             "colorbar": {
              "outlinewidth": 0,
              "ticks": ""
             }
            },
            "type": "scattergl"
           }
          ],
          "scattermapbox": [
           {
            "marker": {
             "colorbar": {
              "outlinewidth": 0,
              "ticks": ""
             }
            },
            "type": "scattermapbox"
           }
          ],
          "scatterpolar": [
           {
            "marker": {
             "colorbar": {
              "outlinewidth": 0,
              "ticks": ""
             }
            },
            "type": "scatterpolar"
           }
          ],
          "scatterpolargl": [
           {
            "marker": {
             "colorbar": {
              "outlinewidth": 0,
              "ticks": ""
             }
            },
            "type": "scatterpolargl"
           }
          ],
          "scatterternary": [
           {
            "marker": {
             "colorbar": {
              "outlinewidth": 0,
              "ticks": ""
             }
            },
            "type": "scatterternary"
           }
          ],
          "surface": [
           {
            "colorbar": {
             "outlinewidth": 0,
             "ticks": ""
            },
            "colorscale": [
             [
              0,
              "#0d0887"
             ],
             [
              0.1111111111111111,
              "#46039f"
             ],
             [
              0.2222222222222222,
              "#7201a8"
             ],
             [
              0.3333333333333333,
              "#9c179e"
             ],
             [
              0.4444444444444444,
              "#bd3786"
             ],
             [
              0.5555555555555556,
              "#d8576b"
             ],
             [
              0.6666666666666666,
              "#ed7953"
             ],
             [
              0.7777777777777778,
              "#fb9f3a"
             ],
             [
              0.8888888888888888,
              "#fdca26"
             ],
             [
              1,
              "#f0f921"
             ]
            ],
            "type": "surface"
           }
          ],
          "table": [
           {
            "cells": {
             "fill": {
              "color": "#EBF0F8"
             },
             "line": {
              "color": "white"
             }
            },
            "header": {
             "fill": {
              "color": "#C8D4E3"
             },
             "line": {
              "color": "white"
             }
            },
            "type": "table"
           }
          ]
         },
         "layout": {
          "annotationdefaults": {
           "arrowcolor": "#2a3f5f",
           "arrowhead": 0,
           "arrowwidth": 1
          },
          "autotypenumbers": "strict",
          "coloraxis": {
           "colorbar": {
            "outlinewidth": 0,
            "ticks": ""
           }
          },
          "colorscale": {
           "diverging": [
            [
             0,
             "#8e0152"
            ],
            [
             0.1,
             "#c51b7d"
            ],
            [
             0.2,
             "#de77ae"
            ],
            [
             0.3,
             "#f1b6da"
            ],
            [
             0.4,
             "#fde0ef"
            ],
            [
             0.5,
             "#f7f7f7"
            ],
            [
             0.6,
             "#e6f5d0"
            ],
            [
             0.7,
             "#b8e186"
            ],
            [
             0.8,
             "#7fbc41"
            ],
            [
             0.9,
             "#4d9221"
            ],
            [
             1,
             "#276419"
            ]
           ],
           "sequential": [
            [
             0,
             "#0d0887"
            ],
            [
             0.1111111111111111,
             "#46039f"
            ],
            [
             0.2222222222222222,
             "#7201a8"
            ],
            [
             0.3333333333333333,
             "#9c179e"
            ],
            [
             0.4444444444444444,
             "#bd3786"
            ],
            [
             0.5555555555555556,
             "#d8576b"
            ],
            [
             0.6666666666666666,
             "#ed7953"
            ],
            [
             0.7777777777777778,
             "#fb9f3a"
            ],
            [
             0.8888888888888888,
             "#fdca26"
            ],
            [
             1,
             "#f0f921"
            ]
           ],
           "sequentialminus": [
            [
             0,
             "#0d0887"
            ],
            [
             0.1111111111111111,
             "#46039f"
            ],
            [
             0.2222222222222222,
             "#7201a8"
            ],
            [
             0.3333333333333333,
             "#9c179e"
            ],
            [
             0.4444444444444444,
             "#bd3786"
            ],
            [
             0.5555555555555556,
             "#d8576b"
            ],
            [
             0.6666666666666666,
             "#ed7953"
            ],
            [
             0.7777777777777778,
             "#fb9f3a"
            ],
            [
             0.8888888888888888,
             "#fdca26"
            ],
            [
             1,
             "#f0f921"
            ]
           ]
          },
          "colorway": [
           "#636efa",
           "#EF553B",
           "#00cc96",
           "#ab63fa",
           "#FFA15A",
           "#19d3f3",
           "#FF6692",
           "#B6E880",
           "#FF97FF",
           "#FECB52"
          ],
          "font": {
           "color": "#2a3f5f"
          },
          "geo": {
           "bgcolor": "white",
           "lakecolor": "white",
           "landcolor": "#E5ECF6",
           "showlakes": true,
           "showland": true,
           "subunitcolor": "white"
          },
          "hoverlabel": {
           "align": "left"
          },
          "hovermode": "closest",
          "mapbox": {
           "style": "light"
          },
          "paper_bgcolor": "white",
          "plot_bgcolor": "#E5ECF6",
          "polar": {
           "angularaxis": {
            "gridcolor": "white",
            "linecolor": "white",
            "ticks": ""
           },
           "bgcolor": "#E5ECF6",
           "radialaxis": {
            "gridcolor": "white",
            "linecolor": "white",
            "ticks": ""
           }
          },
          "scene": {
           "xaxis": {
            "backgroundcolor": "#E5ECF6",
            "gridcolor": "white",
            "gridwidth": 2,
            "linecolor": "white",
            "showbackground": true,
            "ticks": "",
            "zerolinecolor": "white"
           },
           "yaxis": {
            "backgroundcolor": "#E5ECF6",
            "gridcolor": "white",
            "gridwidth": 2,
            "linecolor": "white",
            "showbackground": true,
            "ticks": "",
            "zerolinecolor": "white"
           },
           "zaxis": {
            "backgroundcolor": "#E5ECF6",
            "gridcolor": "white",
            "gridwidth": 2,
            "linecolor": "white",
            "showbackground": true,
            "ticks": "",
            "zerolinecolor": "white"
           }
          },
          "shapedefaults": {
           "line": {
            "color": "#2a3f5f"
           }
          },
          "ternary": {
           "aaxis": {
            "gridcolor": "white",
            "linecolor": "white",
            "ticks": ""
           },
           "baxis": {
            "gridcolor": "white",
            "linecolor": "white",
            "ticks": ""
           },
           "bgcolor": "#E5ECF6",
           "caxis": {
            "gridcolor": "white",
            "linecolor": "white",
            "ticks": ""
           }
          },
          "title": {
           "x": 0.05
          },
          "xaxis": {
           "automargin": true,
           "gridcolor": "white",
           "linecolor": "white",
           "ticks": "",
           "title": {
            "standoff": 15
           },
           "zerolinecolor": "white",
           "zerolinewidth": 2
          },
          "yaxis": {
           "automargin": true,
           "gridcolor": "white",
           "linecolor": "white",
           "ticks": "",
           "title": {
            "standoff": 15
           },
           "zerolinecolor": "white",
           "zerolinewidth": 2
          }
         }
        },
        "title": {
         "font": {
          "color": "white"
         },
         "text": "Number of Customers by State"
        },
        "xaxis": {
         "anchor": "y",
         "domain": [
          0,
          1
         ],
         "tickfont": {
          "color": "white"
         },
         "title": {
          "font": {
           "color": "white"
          },
          "text": "customer state"
         }
        },
        "yaxis": {
         "anchor": "x",
         "domain": [
          0,
          1
         ],
         "tickfont": {
          "color": "white"
         },
         "title": {
          "font": {
           "color": "white"
          },
          "text": "no. of customers"
         }
        }
       }
      }
     },
     "metadata": {},
     "output_type": "display_data"
    }
   ],
   "source": [
    "# Count the number of customers from each state\n",
    "import plotly.express as px\n",
    "\n",
    "query = \"\"\"SELECT customer_state, COUNT(customer_unique_id) FROM customers\n",
    "GROUP BY customer_state \"\"\"\n",
    "cur.execute(query)\n",
    "data = cur.fetchall()\n",
    "data = pd.DataFrame(data, columns=['customer state','no. of customers'])\n",
    "data = data.sort_values(by=\"no. of customers\", ascending=False) # changing order to descending\n",
    "\n",
    "# Bar plot\n",
    "fig = px.bar(data, x='customer state', y='no. of customers', title='Number of Customers by State')\n",
    "fig.update_layout(plot_bgcolor='black', paper_bgcolor='black',title_font=dict(color='white'))\n",
    "fig.update_xaxes(tickfont = {'color':'white'}, title_font={'color':'white'})\n",
    "fig.update_yaxes(tickfont = {'color':'white'}, title_font={'color':'white'})\n",
    "fig.show()\n"
   ]
  },
  {
   "cell_type": "code",
   "execution_count": 35,
   "metadata": {},
   "outputs": [
    {
     "data": {
      "application/vnd.plotly.v1+json": {
       "config": {
        "plotlyServerURL": "https://plot.ly"
       },
       "data": [
        {
         "domain": {
          "x": [
           0,
           1
          ],
          "y": [
           0,
           1
          ]
         },
         "hovertemplate": "Month Name=%{label}<br>Number of Orders=%{value}<extra></extra>",
         "labels": [
          "January",
          "March",
          "April",
          "May",
          "February",
          "August",
          "July",
          "June",
          "September",
          "October"
         ],
         "legendgroup": "",
         "marker": {
          "colors": [
           "white"
          ]
         },
         "name": "",
         "showlegend": true,
         "textfont": {
          "color": "white"
         },
         "type": "pie",
         "values": [
          14538,
          14422,
          13878,
          13746,
          13456,
          13024,
          12584,
          12334,
          32,
          8
         ]
        }
       ],
       "layout": {
        "legend": {
         "font": {
          "color": "white"
         },
         "tracegroupgap": 0
        },
        "paper_bgcolor": "black",
        "plot_bgcolor": "black",
        "template": {
         "data": {
          "bar": [
           {
            "error_x": {
             "color": "#f2f5fa"
            },
            "error_y": {
             "color": "#f2f5fa"
            },
            "marker": {
             "line": {
              "color": "rgb(17,17,17)",
              "width": 0.5
             },
             "pattern": {
              "fillmode": "overlay",
              "size": 10,
              "solidity": 0.2
             }
            },
            "type": "bar"
           }
          ],
          "barpolar": [
           {
            "marker": {
             "line": {
              "color": "rgb(17,17,17)",
              "width": 0.5
             },
             "pattern": {
              "fillmode": "overlay",
              "size": 10,
              "solidity": 0.2
             }
            },
            "type": "barpolar"
           }
          ],
          "carpet": [
           {
            "aaxis": {
             "endlinecolor": "#A2B1C6",
             "gridcolor": "#506784",
             "linecolor": "#506784",
             "minorgridcolor": "#506784",
             "startlinecolor": "#A2B1C6"
            },
            "baxis": {
             "endlinecolor": "#A2B1C6",
             "gridcolor": "#506784",
             "linecolor": "#506784",
             "minorgridcolor": "#506784",
             "startlinecolor": "#A2B1C6"
            },
            "type": "carpet"
           }
          ],
          "choropleth": [
           {
            "colorbar": {
             "outlinewidth": 0,
             "ticks": ""
            },
            "type": "choropleth"
           }
          ],
          "contour": [
           {
            "colorbar": {
             "outlinewidth": 0,
             "ticks": ""
            },
            "colorscale": [
             [
              0,
              "#0d0887"
             ],
             [
              0.1111111111111111,
              "#46039f"
             ],
             [
              0.2222222222222222,
              "#7201a8"
             ],
             [
              0.3333333333333333,
              "#9c179e"
             ],
             [
              0.4444444444444444,
              "#bd3786"
             ],
             [
              0.5555555555555556,
              "#d8576b"
             ],
             [
              0.6666666666666666,
              "#ed7953"
             ],
             [
              0.7777777777777778,
              "#fb9f3a"
             ],
             [
              0.8888888888888888,
              "#fdca26"
             ],
             [
              1,
              "#f0f921"
             ]
            ],
            "type": "contour"
           }
          ],
          "contourcarpet": [
           {
            "colorbar": {
             "outlinewidth": 0,
             "ticks": ""
            },
            "type": "contourcarpet"
           }
          ],
          "heatmap": [
           {
            "colorbar": {
             "outlinewidth": 0,
             "ticks": ""
            },
            "colorscale": [
             [
              0,
              "#0d0887"
             ],
             [
              0.1111111111111111,
              "#46039f"
             ],
             [
              0.2222222222222222,
              "#7201a8"
             ],
             [
              0.3333333333333333,
              "#9c179e"
             ],
             [
              0.4444444444444444,
              "#bd3786"
             ],
             [
              0.5555555555555556,
              "#d8576b"
             ],
             [
              0.6666666666666666,
              "#ed7953"
             ],
             [
              0.7777777777777778,
              "#fb9f3a"
             ],
             [
              0.8888888888888888,
              "#fdca26"
             ],
             [
              1,
              "#f0f921"
             ]
            ],
            "type": "heatmap"
           }
          ],
          "heatmapgl": [
           {
            "colorbar": {
             "outlinewidth": 0,
             "ticks": ""
            },
            "colorscale": [
             [
              0,
              "#0d0887"
             ],
             [
              0.1111111111111111,
              "#46039f"
             ],
             [
              0.2222222222222222,
              "#7201a8"
             ],
             [
              0.3333333333333333,
              "#9c179e"
             ],
             [
              0.4444444444444444,
              "#bd3786"
             ],
             [
              0.5555555555555556,
              "#d8576b"
             ],
             [
              0.6666666666666666,
              "#ed7953"
             ],
             [
              0.7777777777777778,
              "#fb9f3a"
             ],
             [
              0.8888888888888888,
              "#fdca26"
             ],
             [
              1,
              "#f0f921"
             ]
            ],
            "type": "heatmapgl"
           }
          ],
          "histogram": [
           {
            "marker": {
             "pattern": {
              "fillmode": "overlay",
              "size": 10,
              "solidity": 0.2
             }
            },
            "type": "histogram"
           }
          ],
          "histogram2d": [
           {
            "colorbar": {
             "outlinewidth": 0,
             "ticks": ""
            },
            "colorscale": [
             [
              0,
              "#0d0887"
             ],
             [
              0.1111111111111111,
              "#46039f"
             ],
             [
              0.2222222222222222,
              "#7201a8"
             ],
             [
              0.3333333333333333,
              "#9c179e"
             ],
             [
              0.4444444444444444,
              "#bd3786"
             ],
             [
              0.5555555555555556,
              "#d8576b"
             ],
             [
              0.6666666666666666,
              "#ed7953"
             ],
             [
              0.7777777777777778,
              "#fb9f3a"
             ],
             [
              0.8888888888888888,
              "#fdca26"
             ],
             [
              1,
              "#f0f921"
             ]
            ],
            "type": "histogram2d"
           }
          ],
          "histogram2dcontour": [
           {
            "colorbar": {
             "outlinewidth": 0,
             "ticks": ""
            },
            "colorscale": [
             [
              0,
              "#0d0887"
             ],
             [
              0.1111111111111111,
              "#46039f"
             ],
             [
              0.2222222222222222,
              "#7201a8"
             ],
             [
              0.3333333333333333,
              "#9c179e"
             ],
             [
              0.4444444444444444,
              "#bd3786"
             ],
             [
              0.5555555555555556,
              "#d8576b"
             ],
             [
              0.6666666666666666,
              "#ed7953"
             ],
             [
              0.7777777777777778,
              "#fb9f3a"
             ],
             [
              0.8888888888888888,
              "#fdca26"
             ],
             [
              1,
              "#f0f921"
             ]
            ],
            "type": "histogram2dcontour"
           }
          ],
          "mesh3d": [
           {
            "colorbar": {
             "outlinewidth": 0,
             "ticks": ""
            },
            "type": "mesh3d"
           }
          ],
          "parcoords": [
           {
            "line": {
             "colorbar": {
              "outlinewidth": 0,
              "ticks": ""
             }
            },
            "type": "parcoords"
           }
          ],
          "pie": [
           {
            "automargin": true,
            "type": "pie"
           }
          ],
          "scatter": [
           {
            "marker": {
             "line": {
              "color": "#283442"
             }
            },
            "type": "scatter"
           }
          ],
          "scatter3d": [
           {
            "line": {
             "colorbar": {
              "outlinewidth": 0,
              "ticks": ""
             }
            },
            "marker": {
             "colorbar": {
              "outlinewidth": 0,
              "ticks": ""
             }
            },
            "type": "scatter3d"
           }
          ],
          "scattercarpet": [
           {
            "marker": {
             "colorbar": {
              "outlinewidth": 0,
              "ticks": ""
             }
            },
            "type": "scattercarpet"
           }
          ],
          "scattergeo": [
           {
            "marker": {
             "colorbar": {
              "outlinewidth": 0,
              "ticks": ""
             }
            },
            "type": "scattergeo"
           }
          ],
          "scattergl": [
           {
            "marker": {
             "line": {
              "color": "#283442"
             }
            },
            "type": "scattergl"
           }
          ],
          "scattermapbox": [
           {
            "marker": {
             "colorbar": {
              "outlinewidth": 0,
              "ticks": ""
             }
            },
            "type": "scattermapbox"
           }
          ],
          "scatterpolar": [
           {
            "marker": {
             "colorbar": {
              "outlinewidth": 0,
              "ticks": ""
             }
            },
            "type": "scatterpolar"
           }
          ],
          "scatterpolargl": [
           {
            "marker": {
             "colorbar": {
              "outlinewidth": 0,
              "ticks": ""
             }
            },
            "type": "scatterpolargl"
           }
          ],
          "scatterternary": [
           {
            "marker": {
             "colorbar": {
              "outlinewidth": 0,
              "ticks": ""
             }
            },
            "type": "scatterternary"
           }
          ],
          "surface": [
           {
            "colorbar": {
             "outlinewidth": 0,
             "ticks": ""
            },
            "colorscale": [
             [
              0,
              "#0d0887"
             ],
             [
              0.1111111111111111,
              "#46039f"
             ],
             [
              0.2222222222222222,
              "#7201a8"
             ],
             [
              0.3333333333333333,
              "#9c179e"
             ],
             [
              0.4444444444444444,
              "#bd3786"
             ],
             [
              0.5555555555555556,
              "#d8576b"
             ],
             [
              0.6666666666666666,
              "#ed7953"
             ],
             [
              0.7777777777777778,
              "#fb9f3a"
             ],
             [
              0.8888888888888888,
              "#fdca26"
             ],
             [
              1,
              "#f0f921"
             ]
            ],
            "type": "surface"
           }
          ],
          "table": [
           {
            "cells": {
             "fill": {
              "color": "#506784"
             },
             "line": {
              "color": "rgb(17,17,17)"
             }
            },
            "header": {
             "fill": {
              "color": "#2a3f5f"
             },
             "line": {
              "color": "rgb(17,17,17)"
             }
            },
            "type": "table"
           }
          ]
         },
         "layout": {
          "annotationdefaults": {
           "arrowcolor": "#f2f5fa",
           "arrowhead": 0,
           "arrowwidth": 1
          },
          "autotypenumbers": "strict",
          "coloraxis": {
           "colorbar": {
            "outlinewidth": 0,
            "ticks": ""
           }
          },
          "colorscale": {
           "diverging": [
            [
             0,
             "#8e0152"
            ],
            [
             0.1,
             "#c51b7d"
            ],
            [
             0.2,
             "#de77ae"
            ],
            [
             0.3,
             "#f1b6da"
            ],
            [
             0.4,
             "#fde0ef"
            ],
            [
             0.5,
             "#f7f7f7"
            ],
            [
             0.6,
             "#e6f5d0"
            ],
            [
             0.7,
             "#b8e186"
            ],
            [
             0.8,
             "#7fbc41"
            ],
            [
             0.9,
             "#4d9221"
            ],
            [
             1,
             "#276419"
            ]
           ],
           "sequential": [
            [
             0,
             "#0d0887"
            ],
            [
             0.1111111111111111,
             "#46039f"
            ],
            [
             0.2222222222222222,
             "#7201a8"
            ],
            [
             0.3333333333333333,
             "#9c179e"
            ],
            [
             0.4444444444444444,
             "#bd3786"
            ],
            [
             0.5555555555555556,
             "#d8576b"
            ],
            [
             0.6666666666666666,
             "#ed7953"
            ],
            [
             0.7777777777777778,
             "#fb9f3a"
            ],
            [
             0.8888888888888888,
             "#fdca26"
            ],
            [
             1,
             "#f0f921"
            ]
           ],
           "sequentialminus": [
            [
             0,
             "#0d0887"
            ],
            [
             0.1111111111111111,
             "#46039f"
            ],
            [
             0.2222222222222222,
             "#7201a8"
            ],
            [
             0.3333333333333333,
             "#9c179e"
            ],
            [
             0.4444444444444444,
             "#bd3786"
            ],
            [
             0.5555555555555556,
             "#d8576b"
            ],
            [
             0.6666666666666666,
             "#ed7953"
            ],
            [
             0.7777777777777778,
             "#fb9f3a"
            ],
            [
             0.8888888888888888,
             "#fdca26"
            ],
            [
             1,
             "#f0f921"
            ]
           ]
          },
          "colorway": [
           "#636efa",
           "#EF553B",
           "#00cc96",
           "#ab63fa",
           "#FFA15A",
           "#19d3f3",
           "#FF6692",
           "#B6E880",
           "#FF97FF",
           "#FECB52"
          ],
          "font": {
           "color": "#f2f5fa"
          },
          "geo": {
           "bgcolor": "rgb(17,17,17)",
           "lakecolor": "rgb(17,17,17)",
           "landcolor": "rgb(17,17,17)",
           "showlakes": true,
           "showland": true,
           "subunitcolor": "#506784"
          },
          "hoverlabel": {
           "align": "left"
          },
          "hovermode": "closest",
          "mapbox": {
           "style": "dark"
          },
          "paper_bgcolor": "rgb(17,17,17)",
          "plot_bgcolor": "rgb(17,17,17)",
          "polar": {
           "angularaxis": {
            "gridcolor": "#506784",
            "linecolor": "#506784",
            "ticks": ""
           },
           "bgcolor": "rgb(17,17,17)",
           "radialaxis": {
            "gridcolor": "#506784",
            "linecolor": "#506784",
            "ticks": ""
           }
          },
          "scene": {
           "xaxis": {
            "backgroundcolor": "rgb(17,17,17)",
            "gridcolor": "#506784",
            "gridwidth": 2,
            "linecolor": "#506784",
            "showbackground": true,
            "ticks": "",
            "zerolinecolor": "#C8D4E3"
           },
           "yaxis": {
            "backgroundcolor": "rgb(17,17,17)",
            "gridcolor": "#506784",
            "gridwidth": 2,
            "linecolor": "#506784",
            "showbackground": true,
            "ticks": "",
            "zerolinecolor": "#C8D4E3"
           },
           "zaxis": {
            "backgroundcolor": "rgb(17,17,17)",
            "gridcolor": "#506784",
            "gridwidth": 2,
            "linecolor": "#506784",
            "showbackground": true,
            "ticks": "",
            "zerolinecolor": "#C8D4E3"
           }
          },
          "shapedefaults": {
           "line": {
            "color": "#f2f5fa"
           }
          },
          "sliderdefaults": {
           "bgcolor": "#C8D4E3",
           "bordercolor": "rgb(17,17,17)",
           "borderwidth": 1,
           "tickwidth": 0
          },
          "ternary": {
           "aaxis": {
            "gridcolor": "#506784",
            "linecolor": "#506784",
            "ticks": ""
           },
           "baxis": {
            "gridcolor": "#506784",
            "linecolor": "#506784",
            "ticks": ""
           },
           "bgcolor": "rgb(17,17,17)",
           "caxis": {
            "gridcolor": "#506784",
            "linecolor": "#506784",
            "ticks": ""
           }
          },
          "title": {
           "x": 0.05
          },
          "updatemenudefaults": {
           "bgcolor": "#506784",
           "borderwidth": 0
          },
          "xaxis": {
           "automargin": true,
           "gridcolor": "#283442",
           "linecolor": "#506784",
           "ticks": "",
           "title": {
            "standoff": 15
           },
           "zerolinecolor": "#283442",
           "zerolinewidth": 2
          },
          "yaxis": {
           "automargin": true,
           "gridcolor": "#283442",
           "linecolor": "#506784",
           "ticks": "",
           "title": {
            "standoff": 15
           },
           "zerolinecolor": "#283442",
           "zerolinewidth": 2
          }
         }
        },
        "title": {
         "font": {
          "color": "white"
         },
         "text": "Number of Orders by Months in 2018 Year"
        }
       }
      }
     },
     "metadata": {},
     "output_type": "display_data"
    }
   ],
   "source": [
    "# number of orders per month in 2018\n",
    "query = \"\"\"SELECT MONTHNAME(order_purchase_timestamp) AS month_name, COUNT(order_id) FROM orders\n",
    "WHERE YEAR(order_purchase_timestamp)=2018 \n",
    "GROUP BY month_name ORDER BY COUNT(order_id) DESC;\"\"\"\n",
    "cur.execute(query)\n",
    "data = cur.fetchall()\n",
    "data = pd.DataFrame(data, columns=['Month Name','Number of Orders'])\n",
    "\n",
    "fig = px.pie(data_frame=data, values='Number of Orders', names='Month Name', title='Number of Orders by Months in 2018 Year')\n",
    "fig.update_layout(template='plotly_dark',plot_bgcolor='black', paper_bgcolor='black', title_font={'color':'white'}, legend=dict(font_color='white'))\n",
    "fig.update_traces(\n",
    "    marker={'colors':['white']},\n",
    "    textfont = dict(color='white')\n",
    ")"
   ]
  },
  {
   "cell_type": "code",
   "execution_count": 41,
   "metadata": {},
   "outputs": [
    {
     "data": {
      "text/html": [
       "<div>\n",
       "<style scoped>\n",
       "    .dataframe tbody tr th:only-of-type {\n",
       "        vertical-align: middle;\n",
       "    }\n",
       "\n",
       "    .dataframe tbody tr th {\n",
       "        vertical-align: top;\n",
       "    }\n",
       "\n",
       "    .dataframe thead th {\n",
       "        text-align: right;\n",
       "    }\n",
       "</style>\n",
       "<table border=\"1\" class=\"dataframe\">\n",
       "  <thead>\n",
       "    <tr style=\"text-align: right;\">\n",
       "      <th></th>\n",
       "      <th>Customer City</th>\n",
       "      <th>Average Order Count</th>\n",
       "    </tr>\n",
       "  </thead>\n",
       "  <tbody>\n",
       "    <tr>\n",
       "      <th>2826</th>\n",
       "      <td>padre carvalho</td>\n",
       "      <td>28.00</td>\n",
       "    </tr>\n",
       "    <tr>\n",
       "      <th>1931</th>\n",
       "      <td>celso ramos</td>\n",
       "      <td>26.00</td>\n",
       "    </tr>\n",
       "    <tr>\n",
       "      <th>2394</th>\n",
       "      <td>datas</td>\n",
       "      <td>24.00</td>\n",
       "    </tr>\n",
       "    <tr>\n",
       "      <th>3935</th>\n",
       "      <td>candido godoi</td>\n",
       "      <td>24.00</td>\n",
       "    </tr>\n",
       "    <tr>\n",
       "      <th>3993</th>\n",
       "      <td>matias olimpio</td>\n",
       "      <td>20.00</td>\n",
       "    </tr>\n",
       "    <tr>\n",
       "      <th>...</th>\n",
       "      <td>...</td>\n",
       "      <td>...</td>\n",
       "    </tr>\n",
       "    <tr>\n",
       "      <th>2082</th>\n",
       "      <td>ipigua</td>\n",
       "      <td>4.00</td>\n",
       "    </tr>\n",
       "    <tr>\n",
       "      <th>2084</th>\n",
       "      <td>pimenta</td>\n",
       "      <td>4.00</td>\n",
       "    </tr>\n",
       "    <tr>\n",
       "      <th>2085</th>\n",
       "      <td>santana do acarau</td>\n",
       "      <td>4.00</td>\n",
       "    </tr>\n",
       "    <tr>\n",
       "      <th>2086</th>\n",
       "      <td>meleiro</td>\n",
       "      <td>4.00</td>\n",
       "    </tr>\n",
       "    <tr>\n",
       "      <th>4109</th>\n",
       "      <td>tibau do sul</td>\n",
       "      <td>4.00</td>\n",
       "    </tr>\n",
       "  </tbody>\n",
       "</table>\n",
       "<p>4110 rows × 2 columns</p>\n",
       "</div>"
      ],
      "text/plain": [
       "          Customer City Average Order Count\n",
       "2826     padre carvalho               28.00\n",
       "1931        celso ramos               26.00\n",
       "2394              datas               24.00\n",
       "3935      candido godoi               24.00\n",
       "3993     matias olimpio               20.00\n",
       "...                 ...                 ...\n",
       "2082             ipigua                4.00\n",
       "2084            pimenta                4.00\n",
       "2085  santana do acarau                4.00\n",
       "2086            meleiro                4.00\n",
       "4109       tibau do sul                4.00\n",
       "\n",
       "[4110 rows x 2 columns]"
      ]
     },
     "execution_count": 41,
     "metadata": {},
     "output_type": "execute_result"
    }
   ],
   "source": [
    "# Average Number of products per order, grouped by customer city\n",
    "query=\"\"\"WITH count_per_order AS(SELECT orders.order_id, orders.customer_id, COUNT(order_items.order_id) AS orders_count\n",
    "FROM orders JOIN order_items ON orders.order_id = order_items.order_id\n",
    "GROUP BY orders.order_id, orders.customer_id)\n",
    "\n",
    "SELECT customers.customer_city, ROUND(AVG(count_per_order.orders_count),2) AS Average_Orders FROM customers\n",
    "JOIN count_per_order ON customers.customer_id = count_per_order.customer_id\n",
    "GROUP BY customers.customer_city\"\"\"\n",
    "\n",
    "cur.execute(query)\n",
    "data = cur.fetchall()\n",
    "data = pd.DataFrame(data, columns=['Customer City','Average Order Count'])\n",
    "data = data.sort_values(by='Average Order Count', ascending=False)\n",
    "data"
   ]
  },
  {
   "cell_type": "code",
   "execution_count": 51,
   "metadata": {},
   "outputs": [
    {
     "data": {
      "text/html": [
       "<div>\n",
       "<style scoped>\n",
       "    .dataframe tbody tr th:only-of-type {\n",
       "        vertical-align: middle;\n",
       "    }\n",
       "\n",
       "    .dataframe tbody tr th {\n",
       "        vertical-align: top;\n",
       "    }\n",
       "\n",
       "    .dataframe thead th {\n",
       "        text-align: right;\n",
       "    }\n",
       "</style>\n",
       "<table border=\"1\" class=\"dataframe\">\n",
       "  <thead>\n",
       "    <tr style=\"text-align: right;\">\n",
       "      <th></th>\n",
       "      <th>Product Category</th>\n",
       "      <th>Percentage of Total Revnue</th>\n",
       "    </tr>\n",
       "  </thead>\n",
       "  <tbody>\n",
       "    <tr>\n",
       "      <th>0</th>\n",
       "      <td>bed table bath</td>\n",
       "      <td>43</td>\n",
       "    </tr>\n",
       "    <tr>\n",
       "      <th>1</th>\n",
       "      <td>HEALTH BEAUTY</td>\n",
       "      <td>41</td>\n",
       "    </tr>\n",
       "    <tr>\n",
       "      <th>2</th>\n",
       "      <td>computer accessories</td>\n",
       "      <td>40</td>\n",
       "    </tr>\n",
       "    <tr>\n",
       "      <th>3</th>\n",
       "      <td>Furniture Decoration</td>\n",
       "      <td>36</td>\n",
       "    </tr>\n",
       "    <tr>\n",
       "      <th>4</th>\n",
       "      <td>Watches present</td>\n",
       "      <td>36</td>\n",
       "    </tr>\n",
       "    <tr>\n",
       "      <th>...</th>\n",
       "      <td>...</td>\n",
       "      <td>...</td>\n",
       "    </tr>\n",
       "    <tr>\n",
       "      <th>69</th>\n",
       "      <td>PC Gamer</td>\n",
       "      <td>0</td>\n",
       "    </tr>\n",
       "    <tr>\n",
       "      <th>70</th>\n",
       "      <td>House Comfort 2</td>\n",
       "      <td>0</td>\n",
       "    </tr>\n",
       "    <tr>\n",
       "      <th>71</th>\n",
       "      <td>cds music dvds</td>\n",
       "      <td>0</td>\n",
       "    </tr>\n",
       "    <tr>\n",
       "      <th>72</th>\n",
       "      <td>Fashion Children's Clothing</td>\n",
       "      <td>0</td>\n",
       "    </tr>\n",
       "    <tr>\n",
       "      <th>73</th>\n",
       "      <td>insurance and services</td>\n",
       "      <td>0</td>\n",
       "    </tr>\n",
       "  </tbody>\n",
       "</table>\n",
       "<p>74 rows × 2 columns</p>\n",
       "</div>"
      ],
      "text/plain": [
       "               Product Category  Percentage of Total Revnue\n",
       "0                bed table bath                          43\n",
       "1                 HEALTH BEAUTY                          41\n",
       "2          computer accessories                          40\n",
       "3          Furniture Decoration                          36\n",
       "4               Watches present                          36\n",
       "..                          ...                         ...\n",
       "69                     PC Gamer                           0\n",
       "70              House Comfort 2                           0\n",
       "71               cds music dvds                           0\n",
       "72  Fashion Children's Clothing                           0\n",
       "73       insurance and services                           0\n",
       "\n",
       "[74 rows x 2 columns]"
      ]
     },
     "execution_count": 51,
     "metadata": {},
     "output_type": "execute_result"
    }
   ],
   "source": [
    "# percentage of total revenue contributed by each product category\n",
    "query = \"\"\"SELECT products.product_category, ((SUM(payments.payment_value)/(SELECT SUM(payment_value) FROM payments))*100) As percent_revenue FROM products\n",
    "JOIN order_items ON products.product_id = order_items.product_id \n",
    "JOIN payments ON order_items.order_id = payments.order_id\n",
    "GROUP BY products.product_category ORDER BY percent_revenue DESC; \"\"\"\n",
    "cur.execute(query)\n",
    "data = cur.fetchall()\n",
    "data = pd.DataFrame(data, columns=['Product Category','Percentage of Total Revnue'])\n",
    "data"
   ]
  },
  {
   "cell_type": "code",
   "execution_count": 3,
   "metadata": {},
   "outputs": [],
   "source": [
    "import numpy as np\n"
   ]
  },
  {
   "cell_type": "code",
   "execution_count": 7,
   "metadata": {},
   "outputs": [
    {
     "name": "stdout",
     "output_type": "stream",
     "text": [
      "COrrelation b/w Product Price and its no. of purchases is: -0.10631514167157562\n"
     ]
    }
   ],
   "source": [
    "# The correlation b/w product price and the no. of times a product has been purchased\n",
    "query = \"\"\"SELECT products.product_category, COUNT(order_items.product_id), ROUND(AVG(order_items.price),2) FROM products\n",
    "JOIN order_items ON products.product_id = order_items.product_id \n",
    "GROUP BY products.product_category\"\"\"\n",
    "cur.execute(query)\n",
    "data = cur.fetchall()\n",
    "data = pd.DataFrame(data, columns=['Product Category','No. of Purchases','Price'])\n",
    "\n",
    "array1 = data['No. of Purchases']\n",
    "array2 = data['Price']\n",
    "\n",
    "corr_coeff = np.corrcoef(array1, array2)\n",
    "print(f\"COrrelation b/w Product Price and its no. of purchases is: {corr_coeff[0][-1]}\")"
   ]
  },
  {
   "cell_type": "code",
   "execution_count": 19,
   "metadata": {},
   "outputs": [],
   "source": [
    "import plotly.express as px\n"
   ]
  },
  {
   "cell_type": "markdown",
   "metadata": {},
   "source": [
    "**Q: Calculate the total revenue generated by each seller, and rank them by revenue**"
   ]
  },
  {
   "cell_type": "code",
   "execution_count": 22,
   "metadata": {},
   "outputs": [
    {
     "data": {
      "application/vnd.plotly.v1+json": {
       "config": {
        "plotlyServerURL": "https://plot.ly"
       },
       "data": [
        {
         "alignmentgroup": "True",
         "hovertemplate": "seller_id=%{x}<br>revenue=%{y}<extra></extra>",
         "legendgroup": "",
         "marker": {
          "color": "#636efa",
          "pattern": {
           "shape": ""
          }
         },
         "name": "",
         "offsetgroup": "",
         "orientation": "v",
         "showlegend": false,
         "textposition": "auto",
         "type": "bar",
         "x": [
          "7c67e1448b00f6e969d365cea6b010ab",
          "1025f0e2d44d7041d6cf58b6550e0bfa",
          "4a3ca9315b744ce9f8e9374361493884",
          "1f50f920176fa81dab994f9023523100",
          "53243585a1d6dc2643021fd1853d8905",
          "da8622b14eb17ae2831f4ac5b9dab84a",
          "4869f7a5dfa277a7dca6462dcf3b52b2",
          "955fee9216a65b617aa5c0531780ce60",
          "fa1c13f2614d7b5c4749cbc52fecda94",
          "7e93a43ef30c4f03f38b393420bc753a"
         ],
         "xaxis": "x",
         "y": [
          2028667.6292085648,
          1232888.1593608856,
          1204981.0790611506,
          1161013.6805104613,
          1139612.3219909668,
          1088877.2772586346,
          1056664.4837551117,
          945289.2020090595,
          826052.9194793701,
          740536.8388252258
         ],
         "yaxis": "y"
        }
       ],
       "layout": {
        "barmode": "relative",
        "legend": {
         "tracegroupgap": 0
        },
        "template": {
         "data": {
          "bar": [
           {
            "error_x": {
             "color": "#2a3f5f"
            },
            "error_y": {
             "color": "#2a3f5f"
            },
            "marker": {
             "line": {
              "color": "#E5ECF6",
              "width": 0.5
             },
             "pattern": {
              "fillmode": "overlay",
              "size": 10,
              "solidity": 0.2
             }
            },
            "type": "bar"
           }
          ],
          "barpolar": [
           {
            "marker": {
             "line": {
              "color": "#E5ECF6",
              "width": 0.5
             },
             "pattern": {
              "fillmode": "overlay",
              "size": 10,
              "solidity": 0.2
             }
            },
            "type": "barpolar"
           }
          ],
          "carpet": [
           {
            "aaxis": {
             "endlinecolor": "#2a3f5f",
             "gridcolor": "white",
             "linecolor": "white",
             "minorgridcolor": "white",
             "startlinecolor": "#2a3f5f"
            },
            "baxis": {
             "endlinecolor": "#2a3f5f",
             "gridcolor": "white",
             "linecolor": "white",
             "minorgridcolor": "white",
             "startlinecolor": "#2a3f5f"
            },
            "type": "carpet"
           }
          ],
          "choropleth": [
           {
            "colorbar": {
             "outlinewidth": 0,
             "ticks": ""
            },
            "type": "choropleth"
           }
          ],
          "contour": [
           {
            "colorbar": {
             "outlinewidth": 0,
             "ticks": ""
            },
            "colorscale": [
             [
              0,
              "#0d0887"
             ],
             [
              0.1111111111111111,
              "#46039f"
             ],
             [
              0.2222222222222222,
              "#7201a8"
             ],
             [
              0.3333333333333333,
              "#9c179e"
             ],
             [
              0.4444444444444444,
              "#bd3786"
             ],
             [
              0.5555555555555556,
              "#d8576b"
             ],
             [
              0.6666666666666666,
              "#ed7953"
             ],
             [
              0.7777777777777778,
              "#fb9f3a"
             ],
             [
              0.8888888888888888,
              "#fdca26"
             ],
             [
              1,
              "#f0f921"
             ]
            ],
            "type": "contour"
           }
          ],
          "contourcarpet": [
           {
            "colorbar": {
             "outlinewidth": 0,
             "ticks": ""
            },
            "type": "contourcarpet"
           }
          ],
          "heatmap": [
           {
            "colorbar": {
             "outlinewidth": 0,
             "ticks": ""
            },
            "colorscale": [
             [
              0,
              "#0d0887"
             ],
             [
              0.1111111111111111,
              "#46039f"
             ],
             [
              0.2222222222222222,
              "#7201a8"
             ],
             [
              0.3333333333333333,
              "#9c179e"
             ],
             [
              0.4444444444444444,
              "#bd3786"
             ],
             [
              0.5555555555555556,
              "#d8576b"
             ],
             [
              0.6666666666666666,
              "#ed7953"
             ],
             [
              0.7777777777777778,
              "#fb9f3a"
             ],
             [
              0.8888888888888888,
              "#fdca26"
             ],
             [
              1,
              "#f0f921"
             ]
            ],
            "type": "heatmap"
           }
          ],
          "heatmapgl": [
           {
            "colorbar": {
             "outlinewidth": 0,
             "ticks": ""
            },
            "colorscale": [
             [
              0,
              "#0d0887"
             ],
             [
              0.1111111111111111,
              "#46039f"
             ],
             [
              0.2222222222222222,
              "#7201a8"
             ],
             [
              0.3333333333333333,
              "#9c179e"
             ],
             [
              0.4444444444444444,
              "#bd3786"
             ],
             [
              0.5555555555555556,
              "#d8576b"
             ],
             [
              0.6666666666666666,
              "#ed7953"
             ],
             [
              0.7777777777777778,
              "#fb9f3a"
             ],
             [
              0.8888888888888888,
              "#fdca26"
             ],
             [
              1,
              "#f0f921"
             ]
            ],
            "type": "heatmapgl"
           }
          ],
          "histogram": [
           {
            "marker": {
             "pattern": {
              "fillmode": "overlay",
              "size": 10,
              "solidity": 0.2
             }
            },
            "type": "histogram"
           }
          ],
          "histogram2d": [
           {
            "colorbar": {
             "outlinewidth": 0,
             "ticks": ""
            },
            "colorscale": [
             [
              0,
              "#0d0887"
             ],
             [
              0.1111111111111111,
              "#46039f"
             ],
             [
              0.2222222222222222,
              "#7201a8"
             ],
             [
              0.3333333333333333,
              "#9c179e"
             ],
             [
              0.4444444444444444,
              "#bd3786"
             ],
             [
              0.5555555555555556,
              "#d8576b"
             ],
             [
              0.6666666666666666,
              "#ed7953"
             ],
             [
              0.7777777777777778,
              "#fb9f3a"
             ],
             [
              0.8888888888888888,
              "#fdca26"
             ],
             [
              1,
              "#f0f921"
             ]
            ],
            "type": "histogram2d"
           }
          ],
          "histogram2dcontour": [
           {
            "colorbar": {
             "outlinewidth": 0,
             "ticks": ""
            },
            "colorscale": [
             [
              0,
              "#0d0887"
             ],
             [
              0.1111111111111111,
              "#46039f"
             ],
             [
              0.2222222222222222,
              "#7201a8"
             ],
             [
              0.3333333333333333,
              "#9c179e"
             ],
             [
              0.4444444444444444,
              "#bd3786"
             ],
             [
              0.5555555555555556,
              "#d8576b"
             ],
             [
              0.6666666666666666,
              "#ed7953"
             ],
             [
              0.7777777777777778,
              "#fb9f3a"
             ],
             [
              0.8888888888888888,
              "#fdca26"
             ],
             [
              1,
              "#f0f921"
             ]
            ],
            "type": "histogram2dcontour"
           }
          ],
          "mesh3d": [
           {
            "colorbar": {
             "outlinewidth": 0,
             "ticks": ""
            },
            "type": "mesh3d"
           }
          ],
          "parcoords": [
           {
            "line": {
             "colorbar": {
              "outlinewidth": 0,
              "ticks": ""
             }
            },
            "type": "parcoords"
           }
          ],
          "pie": [
           {
            "automargin": true,
            "type": "pie"
           }
          ],
          "scatter": [
           {
            "fillpattern": {
             "fillmode": "overlay",
             "size": 10,
             "solidity": 0.2
            },
            "type": "scatter"
           }
          ],
          "scatter3d": [
           {
            "line": {
             "colorbar": {
              "outlinewidth": 0,
              "ticks": ""
             }
            },
            "marker": {
             "colorbar": {
              "outlinewidth": 0,
              "ticks": ""
             }
            },
            "type": "scatter3d"
           }
          ],
          "scattercarpet": [
           {
            "marker": {
             "colorbar": {
              "outlinewidth": 0,
              "ticks": ""
             }
            },
            "type": "scattercarpet"
           }
          ],
          "scattergeo": [
           {
            "marker": {
             "colorbar": {
              "outlinewidth": 0,
              "ticks": ""
             }
            },
            "type": "scattergeo"
           }
          ],
          "scattergl": [
           {
            "marker": {
             "colorbar": {
              "outlinewidth": 0,
              "ticks": ""
             }
            },
            "type": "scattergl"
           }
          ],
          "scattermapbox": [
           {
            "marker": {
             "colorbar": {
              "outlinewidth": 0,
              "ticks": ""
             }
            },
            "type": "scattermapbox"
           }
          ],
          "scatterpolar": [
           {
            "marker": {
             "colorbar": {
              "outlinewidth": 0,
              "ticks": ""
             }
            },
            "type": "scatterpolar"
           }
          ],
          "scatterpolargl": [
           {
            "marker": {
             "colorbar": {
              "outlinewidth": 0,
              "ticks": ""
             }
            },
            "type": "scatterpolargl"
           }
          ],
          "scatterternary": [
           {
            "marker": {
             "colorbar": {
              "outlinewidth": 0,
              "ticks": ""
             }
            },
            "type": "scatterternary"
           }
          ],
          "surface": [
           {
            "colorbar": {
             "outlinewidth": 0,
             "ticks": ""
            },
            "colorscale": [
             [
              0,
              "#0d0887"
             ],
             [
              0.1111111111111111,
              "#46039f"
             ],
             [
              0.2222222222222222,
              "#7201a8"
             ],
             [
              0.3333333333333333,
              "#9c179e"
             ],
             [
              0.4444444444444444,
              "#bd3786"
             ],
             [
              0.5555555555555556,
              "#d8576b"
             ],
             [
              0.6666666666666666,
              "#ed7953"
             ],
             [
              0.7777777777777778,
              "#fb9f3a"
             ],
             [
              0.8888888888888888,
              "#fdca26"
             ],
             [
              1,
              "#f0f921"
             ]
            ],
            "type": "surface"
           }
          ],
          "table": [
           {
            "cells": {
             "fill": {
              "color": "#EBF0F8"
             },
             "line": {
              "color": "white"
             }
            },
            "header": {
             "fill": {
              "color": "#C8D4E3"
             },
             "line": {
              "color": "white"
             }
            },
            "type": "table"
           }
          ]
         },
         "layout": {
          "annotationdefaults": {
           "arrowcolor": "#2a3f5f",
           "arrowhead": 0,
           "arrowwidth": 1
          },
          "autotypenumbers": "strict",
          "coloraxis": {
           "colorbar": {
            "outlinewidth": 0,
            "ticks": ""
           }
          },
          "colorscale": {
           "diverging": [
            [
             0,
             "#8e0152"
            ],
            [
             0.1,
             "#c51b7d"
            ],
            [
             0.2,
             "#de77ae"
            ],
            [
             0.3,
             "#f1b6da"
            ],
            [
             0.4,
             "#fde0ef"
            ],
            [
             0.5,
             "#f7f7f7"
            ],
            [
             0.6,
             "#e6f5d0"
            ],
            [
             0.7,
             "#b8e186"
            ],
            [
             0.8,
             "#7fbc41"
            ],
            [
             0.9,
             "#4d9221"
            ],
            [
             1,
             "#276419"
            ]
           ],
           "sequential": [
            [
             0,
             "#0d0887"
            ],
            [
             0.1111111111111111,
             "#46039f"
            ],
            [
             0.2222222222222222,
             "#7201a8"
            ],
            [
             0.3333333333333333,
             "#9c179e"
            ],
            [
             0.4444444444444444,
             "#bd3786"
            ],
            [
             0.5555555555555556,
             "#d8576b"
            ],
            [
             0.6666666666666666,
             "#ed7953"
            ],
            [
             0.7777777777777778,
             "#fb9f3a"
            ],
            [
             0.8888888888888888,
             "#fdca26"
            ],
            [
             1,
             "#f0f921"
            ]
           ],
           "sequentialminus": [
            [
             0,
             "#0d0887"
            ],
            [
             0.1111111111111111,
             "#46039f"
            ],
            [
             0.2222222222222222,
             "#7201a8"
            ],
            [
             0.3333333333333333,
             "#9c179e"
            ],
            [
             0.4444444444444444,
             "#bd3786"
            ],
            [
             0.5555555555555556,
             "#d8576b"
            ],
            [
             0.6666666666666666,
             "#ed7953"
            ],
            [
             0.7777777777777778,
             "#fb9f3a"
            ],
            [
             0.8888888888888888,
             "#fdca26"
            ],
            [
             1,
             "#f0f921"
            ]
           ]
          },
          "colorway": [
           "#636efa",
           "#EF553B",
           "#00cc96",
           "#ab63fa",
           "#FFA15A",
           "#19d3f3",
           "#FF6692",
           "#B6E880",
           "#FF97FF",
           "#FECB52"
          ],
          "font": {
           "color": "#2a3f5f"
          },
          "geo": {
           "bgcolor": "white",
           "lakecolor": "white",
           "landcolor": "#E5ECF6",
           "showlakes": true,
           "showland": true,
           "subunitcolor": "white"
          },
          "hoverlabel": {
           "align": "left"
          },
          "hovermode": "closest",
          "mapbox": {
           "style": "light"
          },
          "paper_bgcolor": "white",
          "plot_bgcolor": "#E5ECF6",
          "polar": {
           "angularaxis": {
            "gridcolor": "white",
            "linecolor": "white",
            "ticks": ""
           },
           "bgcolor": "#E5ECF6",
           "radialaxis": {
            "gridcolor": "white",
            "linecolor": "white",
            "ticks": ""
           }
          },
          "scene": {
           "xaxis": {
            "backgroundcolor": "#E5ECF6",
            "gridcolor": "white",
            "gridwidth": 2,
            "linecolor": "white",
            "showbackground": true,
            "ticks": "",
            "zerolinecolor": "white"
           },
           "yaxis": {
            "backgroundcolor": "#E5ECF6",
            "gridcolor": "white",
            "gridwidth": 2,
            "linecolor": "white",
            "showbackground": true,
            "ticks": "",
            "zerolinecolor": "white"
           },
           "zaxis": {
            "backgroundcolor": "#E5ECF6",
            "gridcolor": "white",
            "gridwidth": 2,
            "linecolor": "white",
            "showbackground": true,
            "ticks": "",
            "zerolinecolor": "white"
           }
          },
          "shapedefaults": {
           "line": {
            "color": "#2a3f5f"
           }
          },
          "ternary": {
           "aaxis": {
            "gridcolor": "white",
            "linecolor": "white",
            "ticks": ""
           },
           "baxis": {
            "gridcolor": "white",
            "linecolor": "white",
            "ticks": ""
           },
           "bgcolor": "#E5ECF6",
           "caxis": {
            "gridcolor": "white",
            "linecolor": "white",
            "ticks": ""
           }
          },
          "title": {
           "x": 0.05
          },
          "xaxis": {
           "automargin": true,
           "gridcolor": "white",
           "linecolor": "white",
           "ticks": "",
           "title": {
            "standoff": 15
           },
           "zerolinecolor": "white",
           "zerolinewidth": 2
          },
          "yaxis": {
           "automargin": true,
           "gridcolor": "white",
           "linecolor": "white",
           "ticks": "",
           "title": {
            "standoff": 15
           },
           "zerolinecolor": "white",
           "zerolinewidth": 2
          }
         }
        },
        "title": {
         "text": "Top 10 Sellers by revenue"
        },
        "xaxis": {
         "anchor": "y",
         "domain": [
          0,
          1
         ],
         "title": {
          "text": "seller_id"
         }
        },
        "yaxis": {
         "anchor": "x",
         "domain": [
          0,
          1
         ],
         "title": {
          "text": "revenue"
         }
        }
       }
      }
     },
     "metadata": {},
     "output_type": "display_data"
    }
   ],
   "source": [
    "query = \"\"\" select *, dense_rank() over(order by revenue desc) as rn from\n",
    "(select order_items.seller_id, sum(payments.payment_value) AS\n",
    "revenue from order_items join payments\n",
    "on order_items.order_id = payments.order_id\n",
    "group by order_items.seller_id) as a \"\"\"\n",
    "\n",
    "cur.execute(query)\n",
    "data = cur.fetchall()\n",
    "data = pd.DataFrame(data, columns=['seller_id','revenue','rank'])\n",
    "data = data.head(10)\n",
    "data\n",
    "fig = px.bar(data, x=\"seller_id\", y='revenue',title='Top 10 Sellers by revenue')\n",
    "fig.show()"
   ]
  },
  {
   "cell_type": "markdown",
   "metadata": {},
   "source": [
    "**Q: Calculate the moving average of order values for each customer over their order history**"
   ]
  },
  {
   "cell_type": "code",
   "execution_count": 4,
   "metadata": {},
   "outputs": [
    {
     "data": {
      "text/html": [
       "<div>\n",
       "<style scoped>\n",
       "    .dataframe tbody tr th:only-of-type {\n",
       "        vertical-align: middle;\n",
       "    }\n",
       "\n",
       "    .dataframe tbody tr th {\n",
       "        vertical-align: top;\n",
       "    }\n",
       "\n",
       "    .dataframe thead th {\n",
       "        text-align: right;\n",
       "    }\n",
       "</style>\n",
       "<table border=\"1\" class=\"dataframe\">\n",
       "  <thead>\n",
       "    <tr style=\"text-align: right;\">\n",
       "      <th></th>\n",
       "      <th>customer_id</th>\n",
       "      <th>order_purchase_timestamp</th>\n",
       "      <th>payment</th>\n",
       "      <th>moving average payment</th>\n",
       "    </tr>\n",
       "  </thead>\n",
       "  <tbody>\n",
       "    <tr>\n",
       "      <th>0</th>\n",
       "      <td>00012a2ce6f8dcda20d059ce98491703</td>\n",
       "      <td>2017-11-14 16:08:26</td>\n",
       "      <td>114.74</td>\n",
       "      <td>114.739998</td>\n",
       "    </tr>\n",
       "    <tr>\n",
       "      <th>1</th>\n",
       "      <td>00012a2ce6f8dcda20d059ce98491703</td>\n",
       "      <td>2017-11-14 16:08:26</td>\n",
       "      <td>114.74</td>\n",
       "      <td>114.739998</td>\n",
       "    </tr>\n",
       "    <tr>\n",
       "      <th>2</th>\n",
       "      <td>00012a2ce6f8dcda20d059ce98491703</td>\n",
       "      <td>2017-11-14 16:08:26</td>\n",
       "      <td>114.74</td>\n",
       "      <td>114.739998</td>\n",
       "    </tr>\n",
       "    <tr>\n",
       "      <th>3</th>\n",
       "      <td>00012a2ce6f8dcda20d059ce98491703</td>\n",
       "      <td>2017-11-14 16:08:26</td>\n",
       "      <td>114.74</td>\n",
       "      <td>114.739998</td>\n",
       "    </tr>\n",
       "    <tr>\n",
       "      <th>4</th>\n",
       "      <td>000161a058600d5901f007fab4c27140</td>\n",
       "      <td>2017-07-16 09:40:32</td>\n",
       "      <td>67.41</td>\n",
       "      <td>67.410004</td>\n",
       "    </tr>\n",
       "    <tr>\n",
       "      <th>...</th>\n",
       "      <td>...</td>\n",
       "      <td>...</td>\n",
       "      <td>...</td>\n",
       "      <td>...</td>\n",
       "    </tr>\n",
       "    <tr>\n",
       "      <th>415539</th>\n",
       "      <td>ffffa3172527f765de70084a7e53aae8</td>\n",
       "      <td>2017-09-02 11:53:32</td>\n",
       "      <td>45.50</td>\n",
       "      <td>45.500000</td>\n",
       "    </tr>\n",
       "    <tr>\n",
       "      <th>415540</th>\n",
       "      <td>ffffe8b65bbe3087b653a978c870db99</td>\n",
       "      <td>2017-09-29 14:07:03</td>\n",
       "      <td>18.37</td>\n",
       "      <td>18.370001</td>\n",
       "    </tr>\n",
       "    <tr>\n",
       "      <th>415541</th>\n",
       "      <td>ffffe8b65bbe3087b653a978c870db99</td>\n",
       "      <td>2017-09-29 14:07:03</td>\n",
       "      <td>18.37</td>\n",
       "      <td>18.370001</td>\n",
       "    </tr>\n",
       "    <tr>\n",
       "      <th>415542</th>\n",
       "      <td>ffffe8b65bbe3087b653a978c870db99</td>\n",
       "      <td>2017-09-29 14:07:03</td>\n",
       "      <td>18.37</td>\n",
       "      <td>18.370001</td>\n",
       "    </tr>\n",
       "    <tr>\n",
       "      <th>415543</th>\n",
       "      <td>ffffe8b65bbe3087b653a978c870db99</td>\n",
       "      <td>2017-09-29 14:07:03</td>\n",
       "      <td>18.37</td>\n",
       "      <td>18.370001</td>\n",
       "    </tr>\n",
       "  </tbody>\n",
       "</table>\n",
       "<p>415544 rows × 4 columns</p>\n",
       "</div>"
      ],
      "text/plain": [
       "                             customer_id order_purchase_timestamp  payment  \\\n",
       "0       00012a2ce6f8dcda20d059ce98491703      2017-11-14 16:08:26   114.74   \n",
       "1       00012a2ce6f8dcda20d059ce98491703      2017-11-14 16:08:26   114.74   \n",
       "2       00012a2ce6f8dcda20d059ce98491703      2017-11-14 16:08:26   114.74   \n",
       "3       00012a2ce6f8dcda20d059ce98491703      2017-11-14 16:08:26   114.74   \n",
       "4       000161a058600d5901f007fab4c27140      2017-07-16 09:40:32    67.41   \n",
       "...                                  ...                      ...      ...   \n",
       "415539  ffffa3172527f765de70084a7e53aae8      2017-09-02 11:53:32    45.50   \n",
       "415540  ffffe8b65bbe3087b653a978c870db99      2017-09-29 14:07:03    18.37   \n",
       "415541  ffffe8b65bbe3087b653a978c870db99      2017-09-29 14:07:03    18.37   \n",
       "415542  ffffe8b65bbe3087b653a978c870db99      2017-09-29 14:07:03    18.37   \n",
       "415543  ffffe8b65bbe3087b653a978c870db99      2017-09-29 14:07:03    18.37   \n",
       "\n",
       "        moving average payment  \n",
       "0                   114.739998  \n",
       "1                   114.739998  \n",
       "2                   114.739998  \n",
       "3                   114.739998  \n",
       "4                    67.410004  \n",
       "...                        ...  \n",
       "415539               45.500000  \n",
       "415540               18.370001  \n",
       "415541               18.370001  \n",
       "415542               18.370001  \n",
       "415543               18.370001  \n",
       "\n",
       "[415544 rows x 4 columns]"
      ]
     },
     "execution_count": 4,
     "metadata": {},
     "output_type": "execute_result"
    }
   ],
   "source": [
    "query = \"\"\"select customer_id, order_purchase_timestamp, payment,\n",
    "avg(payment) over(partition by customer_id order by order_purchase_timestamp\n",
    "rows between 2 preceding and current row) as mov_avg\n",
    "from\n",
    "(select orders.customer_id, orders.order_purchase_timestamp, \n",
    "payments.payment_value as payment\n",
    "from payments join orders\n",
    "on payments.order_id = orders.order_id) as a\"\"\"\n",
    "cur.execute(query)\n",
    "data = cur.fetchall()\n",
    "df = pd.DataFrame(data, columns=['customer_id','order_purchase_timestamp','payment','moving average payment'])\n",
    "df\n"
   ]
  },
  {
   "cell_type": "markdown",
   "metadata": {},
   "source": [
    "**Q: Calculate the cumulative sales per month for each year**"
   ]
  },
  {
   "cell_type": "code",
   "execution_count": 5,
   "metadata": {},
   "outputs": [
    {
     "data": {
      "text/html": [
       "<div>\n",
       "<style scoped>\n",
       "    .dataframe tbody tr th:only-of-type {\n",
       "        vertical-align: middle;\n",
       "    }\n",
       "\n",
       "    .dataframe tbody tr th {\n",
       "        vertical-align: top;\n",
       "    }\n",
       "\n",
       "    .dataframe thead th {\n",
       "        text-align: right;\n",
       "    }\n",
       "</style>\n",
       "<table border=\"1\" class=\"dataframe\">\n",
       "  <thead>\n",
       "    <tr style=\"text-align: right;\">\n",
       "      <th></th>\n",
       "      <th>0</th>\n",
       "      <th>1</th>\n",
       "      <th>2</th>\n",
       "      <th>3</th>\n",
       "    </tr>\n",
       "  </thead>\n",
       "  <tbody>\n",
       "    <tr>\n",
       "      <th>0</th>\n",
       "      <td>2016</td>\n",
       "      <td>9</td>\n",
       "      <td>1008.96</td>\n",
       "      <td>1008.96</td>\n",
       "    </tr>\n",
       "    <tr>\n",
       "      <th>1</th>\n",
       "      <td>2016</td>\n",
       "      <td>10</td>\n",
       "      <td>236361.92</td>\n",
       "      <td>237370.88</td>\n",
       "    </tr>\n",
       "    <tr>\n",
       "      <th>2</th>\n",
       "      <td>2016</td>\n",
       "      <td>12</td>\n",
       "      <td>78.48</td>\n",
       "      <td>237449.36</td>\n",
       "    </tr>\n",
       "    <tr>\n",
       "      <th>3</th>\n",
       "      <td>2017</td>\n",
       "      <td>1</td>\n",
       "      <td>553952.16</td>\n",
       "      <td>791401.52</td>\n",
       "    </tr>\n",
       "    <tr>\n",
       "      <th>4</th>\n",
       "      <td>2017</td>\n",
       "      <td>2</td>\n",
       "      <td>1167632.04</td>\n",
       "      <td>1959033.56</td>\n",
       "    </tr>\n",
       "    <tr>\n",
       "      <th>5</th>\n",
       "      <td>2017</td>\n",
       "      <td>3</td>\n",
       "      <td>1799454.40</td>\n",
       "      <td>3758487.96</td>\n",
       "    </tr>\n",
       "    <tr>\n",
       "      <th>6</th>\n",
       "      <td>2017</td>\n",
       "      <td>4</td>\n",
       "      <td>1671152.12</td>\n",
       "      <td>5429640.08</td>\n",
       "    </tr>\n",
       "    <tr>\n",
       "      <th>7</th>\n",
       "      <td>2017</td>\n",
       "      <td>5</td>\n",
       "      <td>2371675.28</td>\n",
       "      <td>7801315.36</td>\n",
       "    </tr>\n",
       "    <tr>\n",
       "      <th>8</th>\n",
       "      <td>2017</td>\n",
       "      <td>6</td>\n",
       "      <td>2045105.52</td>\n",
       "      <td>9846420.88</td>\n",
       "    </tr>\n",
       "    <tr>\n",
       "      <th>9</th>\n",
       "      <td>2017</td>\n",
       "      <td>7</td>\n",
       "      <td>2369531.68</td>\n",
       "      <td>12215952.56</td>\n",
       "    </tr>\n",
       "    <tr>\n",
       "      <th>10</th>\n",
       "      <td>2017</td>\n",
       "      <td>8</td>\n",
       "      <td>2697585.28</td>\n",
       "      <td>14913537.84</td>\n",
       "    </tr>\n",
       "    <tr>\n",
       "      <th>11</th>\n",
       "      <td>2017</td>\n",
       "      <td>9</td>\n",
       "      <td>2911049.80</td>\n",
       "      <td>17824587.64</td>\n",
       "    </tr>\n",
       "    <tr>\n",
       "      <th>12</th>\n",
       "      <td>2017</td>\n",
       "      <td>10</td>\n",
       "      <td>3118711.52</td>\n",
       "      <td>20943299.16</td>\n",
       "    </tr>\n",
       "    <tr>\n",
       "      <th>13</th>\n",
       "      <td>2017</td>\n",
       "      <td>11</td>\n",
       "      <td>4779531.20</td>\n",
       "      <td>25722830.36</td>\n",
       "    </tr>\n",
       "    <tr>\n",
       "      <th>14</th>\n",
       "      <td>2017</td>\n",
       "      <td>12</td>\n",
       "      <td>3513605.92</td>\n",
       "      <td>29236436.28</td>\n",
       "    </tr>\n",
       "    <tr>\n",
       "      <th>15</th>\n",
       "      <td>2018</td>\n",
       "      <td>1</td>\n",
       "      <td>4460016.72</td>\n",
       "      <td>33696453.00</td>\n",
       "    </tr>\n",
       "    <tr>\n",
       "      <th>16</th>\n",
       "      <td>2018</td>\n",
       "      <td>2</td>\n",
       "      <td>3969853.36</td>\n",
       "      <td>37666306.36</td>\n",
       "    </tr>\n",
       "    <tr>\n",
       "      <th>17</th>\n",
       "      <td>2018</td>\n",
       "      <td>3</td>\n",
       "      <td>4638608.48</td>\n",
       "      <td>42304914.84</td>\n",
       "    </tr>\n",
       "    <tr>\n",
       "      <th>18</th>\n",
       "      <td>2018</td>\n",
       "      <td>4</td>\n",
       "      <td>4643141.92</td>\n",
       "      <td>46948056.76</td>\n",
       "    </tr>\n",
       "    <tr>\n",
       "      <th>19</th>\n",
       "      <td>2018</td>\n",
       "      <td>5</td>\n",
       "      <td>4615928.60</td>\n",
       "      <td>51563985.36</td>\n",
       "    </tr>\n",
       "    <tr>\n",
       "      <th>20</th>\n",
       "      <td>2018</td>\n",
       "      <td>6</td>\n",
       "      <td>4095522.00</td>\n",
       "      <td>55659507.36</td>\n",
       "    </tr>\n",
       "    <tr>\n",
       "      <th>21</th>\n",
       "      <td>2018</td>\n",
       "      <td>7</td>\n",
       "      <td>4266163.00</td>\n",
       "      <td>59925670.36</td>\n",
       "    </tr>\n",
       "    <tr>\n",
       "      <th>22</th>\n",
       "      <td>2018</td>\n",
       "      <td>8</td>\n",
       "      <td>4089701.29</td>\n",
       "      <td>64015371.65</td>\n",
       "    </tr>\n",
       "    <tr>\n",
       "      <th>23</th>\n",
       "      <td>2018</td>\n",
       "      <td>9</td>\n",
       "      <td>17758.16</td>\n",
       "      <td>64033129.81</td>\n",
       "    </tr>\n",
       "    <tr>\n",
       "      <th>24</th>\n",
       "      <td>2018</td>\n",
       "      <td>10</td>\n",
       "      <td>2358.68</td>\n",
       "      <td>64035488.49</td>\n",
       "    </tr>\n",
       "  </tbody>\n",
       "</table>\n",
       "</div>"
      ],
      "text/plain": [
       "       0   1           2            3\n",
       "0   2016   9     1008.96      1008.96\n",
       "1   2016  10   236361.92    237370.88\n",
       "2   2016  12       78.48    237449.36\n",
       "3   2017   1   553952.16    791401.52\n",
       "4   2017   2  1167632.04   1959033.56\n",
       "5   2017   3  1799454.40   3758487.96\n",
       "6   2017   4  1671152.12   5429640.08\n",
       "7   2017   5  2371675.28   7801315.36\n",
       "8   2017   6  2045105.52   9846420.88\n",
       "9   2017   7  2369531.68  12215952.56\n",
       "10  2017   8  2697585.28  14913537.84\n",
       "11  2017   9  2911049.80  17824587.64\n",
       "12  2017  10  3118711.52  20943299.16\n",
       "13  2017  11  4779531.20  25722830.36\n",
       "14  2017  12  3513605.92  29236436.28\n",
       "15  2018   1  4460016.72  33696453.00\n",
       "16  2018   2  3969853.36  37666306.36\n",
       "17  2018   3  4638608.48  42304914.84\n",
       "18  2018   4  4643141.92  46948056.76\n",
       "19  2018   5  4615928.60  51563985.36\n",
       "20  2018   6  4095522.00  55659507.36\n",
       "21  2018   7  4266163.00  59925670.36\n",
       "22  2018   8  4089701.29  64015371.65\n",
       "23  2018   9    17758.16  64033129.81\n",
       "24  2018  10     2358.68  64035488.49"
      ]
     },
     "execution_count": 5,
     "metadata": {},
     "output_type": "execute_result"
    }
   ],
   "source": [
    "query = \"\"\"select years, months , payment, sum(payment)\n",
    "over(order by years, months) cumulative_sales from \n",
    "(select year(orders.order_purchase_timestamp) as years,\n",
    "month(orders.order_purchase_timestamp) as months,\n",
    "round(sum(payments.payment_value),2) as payment from orders join payments\n",
    "on orders.order_id = payments.order_id\n",
    "group by years, months order by years, months) as a\n",
    "\"\"\"\n",
    "cur.execute(query)\n",
    "data = cur.fetchall()\n",
    "df = pd.DataFrame(data)\n",
    "df"
   ]
  },
  {
   "cell_type": "markdown",
   "metadata": {},
   "source": [
    "**Q: Calculate Year on Year % Growth Rate of Total Sales**"
   ]
  },
  {
   "cell_type": "code",
   "execution_count": 6,
   "metadata": {},
   "outputs": [
    {
     "data": {
      "text/html": [
       "<div>\n",
       "<style scoped>\n",
       "    .dataframe tbody tr th:only-of-type {\n",
       "        vertical-align: middle;\n",
       "    }\n",
       "\n",
       "    .dataframe tbody tr th {\n",
       "        vertical-align: top;\n",
       "    }\n",
       "\n",
       "    .dataframe thead th {\n",
       "        text-align: right;\n",
       "    }\n",
       "</style>\n",
       "<table border=\"1\" class=\"dataframe\">\n",
       "  <thead>\n",
       "    <tr style=\"text-align: right;\">\n",
       "      <th></th>\n",
       "      <th>years</th>\n",
       "      <th>yoy % growth</th>\n",
       "    </tr>\n",
       "  </thead>\n",
       "  <tbody>\n",
       "    <tr>\n",
       "      <th>0</th>\n",
       "      <td>2016</td>\n",
       "      <td>NaN</td>\n",
       "    </tr>\n",
       "    <tr>\n",
       "      <th>1</th>\n",
       "      <td>2017</td>\n",
       "      <td>12112.703757</td>\n",
       "    </tr>\n",
       "    <tr>\n",
       "      <th>2</th>\n",
       "      <td>2018</td>\n",
       "      <td>20.000924</td>\n",
       "    </tr>\n",
       "  </tbody>\n",
       "</table>\n",
       "</div>"
      ],
      "text/plain": [
       "   years  yoy % growth\n",
       "0   2016           NaN\n",
       "1   2017  12112.703757\n",
       "2   2018     20.000924"
      ]
     },
     "execution_count": 6,
     "metadata": {},
     "output_type": "execute_result"
    }
   ],
   "source": [
    "query = \"\"\"with a as(select year(orders.order_purchase_timestamp) as years,\n",
    "round(sum(payments.payment_value),2) as payment from orders join payments\n",
    "on orders.order_id = payments.order_id\n",
    "group by years order by years)\n",
    "\n",
    "select years, ((payment - lag(payment, 1) over(order by years))/\n",
    "lag(payment, 1) over(order by years)) * 100 from a\"\"\"\n",
    "\n",
    "cur.execute(query)\n",
    "data = cur.fetchall()\n",
    "df = pd.DataFrame(data, columns = [\"years\", \"yoy % growth\"])\n",
    "df"
   ]
  },
  {
   "cell_type": "markdown",
   "metadata": {},
   "source": [
    "**Q: Calculate the retention rate of customers, defined as the percentage of customers who make another purchase within 6 months of their first purchase**"
   ]
  },
  {
   "cell_type": "code",
   "execution_count": 7,
   "metadata": {},
   "outputs": [
    {
     "data": {
      "text/plain": [
       "[(None,)]"
      ]
     },
     "execution_count": 7,
     "metadata": {},
     "output_type": "execute_result"
    }
   ],
   "source": [
    "query = \"\"\"with a as (select customers.customer_id,\n",
    "min(orders.order_purchase_timestamp) first_order\n",
    "from customers join orders\n",
    "on customers.customer_id = orders.customer_id\n",
    "group by customers.customer_id),\n",
    "\n",
    "b as (select a.customer_id, count(distinct orders.order_purchase_timestamp) next_order\n",
    "from a join orders\n",
    "on orders.customer_id = a.customer_id\n",
    "and orders.order_purchase_timestamp > first_order\n",
    "and orders.order_purchase_timestamp < \n",
    "date_add(first_order, interval 6 month)\n",
    "group by a.customer_id) \n",
    "\n",
    "select 100 * (count( distinct a.customer_id)/ count(distinct b.customer_id)) \n",
    "from a left join b \n",
    "on a.customer_id = b.customer_id ;\"\"\"\n",
    "\n",
    "cur.execute(query)\n",
    "data = cur.fetchall()\n",
    "\n",
    "data"
   ]
  },
  {
   "cell_type": "markdown",
   "metadata": {},
   "source": [
    "### **Q: Find the top 3 customers who spent the most money in each year**"
   ]
  },
  {
   "cell_type": "code",
   "execution_count": 8,
   "metadata": {},
   "outputs": [
    {
     "data": {
      "image/png": "[encoded data removed]",
      "text/plain": [
       "<Figure size 640x480 with 1 Axes>"
      ]
     },
     "metadata": {},
     "output_type": "display_data"
    }
   ],
   "source": [
    "import matplotlib.pyplot as plt\n",
    "import seaborn as sns\n",
    "\n",
    "query = \"\"\"select years, customer_id, payment, d_rank\n",
    "from\n",
    "(select year(orders.order_purchase_timestamp) years,\n",
    "orders.customer_id,\n",
    "sum(payments.payment_value) payment,\n",
    "dense_rank() over(partition by year(orders.order_purchase_timestamp)\n",
    "order by sum(payments.payment_value) desc) d_rank\n",
    "from orders join payments \n",
    "on payments.order_id = orders.order_id\n",
    "group by year(orders.order_purchase_timestamp),\n",
    "orders.customer_id) as a\n",
    "where d_rank <= 3 ;\"\"\"\n",
    "\n",
    "cur.execute(query)\n",
    "data = cur.fetchall()\n",
    "df = pd.DataFrame(data, columns = [\"years\",\"id\",\"payment\",\"rank\"])\n",
    "sns.barplot(x = \"id\", y = \"payment\", data = df, hue = \"years\")\n",
    "plt.xticks(rotation = 90)\n",
    "plt.show();"
   ]
  }
 ],
 "metadata": {
  "kernelspec": {
   "display_name": "Python 3",
   "language": "python",
   "name": "python3"
  },
  "language_info": {
   "codemirror_mode": {
    "name": "ipython",
    "version": 3
   },
   "file_extension": ".py",
   "mimetype": "text/x-python",
   "name": "python",
   "nbconvert_exporter": "python",
   "pygments_lexer": "ipython3",
   "version": "3.12.5"
  }
 },
 "nbformat": 4,
 "nbformat_minor": 2
}
